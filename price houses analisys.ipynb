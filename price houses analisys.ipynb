{
 "cells": [
  {
   "cell_type": "markdown",
   "id": "1a4dbde2",
   "metadata": {
    "cell_id": "bf71078e-c6c3-4494-b1da-dbb8925af2ae",
    "deepnote_cell_height": 128.140625,
    "deepnote_cell_type": "markdown"
   },
   "source": [
    "Objetivos:\n",
    "    \n",
    "    • Neste trabalho iremos construir um modelo de machine learn capaz de prever o preço de casas de certo local no estados unidos (Kaggle Dataset)."
   ]
  },
  {
   "cell_type": "code",
   "execution_count": null,
   "id": "213453e9",
   "metadata": {
    "cell_id": "00001-9d1e4d35-cd0d-4084-87c5-974ffbca0201",
    "deepnote_cell_height": 189.15625,
    "deepnote_cell_type": "code",
    "deepnote_to_be_reexecuted": false,
    "execution_millis": 2,
    "execution_start": 1649803095386,
    "source_hash": "dab75d71"
   },
   "outputs": [],
   "source": [
    "import pandas as pd\n",
    "import numpy as np\n",
    "import seaborn as sns\n",
    "from sklearn.model_selection import cross_val_score, train_test_split, cross_val_predict\n",
    "from sklearn.preprocessing import StandardScaler\n",
    "from sklearn.linear_model import LinearRegression, RidgeCV, LassoCV, ElasticNetCV\n",
    "from sklearn.metrics import mean_squared_error, make_scorer"
   ]
  },
  {
   "cell_type": "markdown",
   "id": "eded056a",
   "metadata": {
    "cell_id": "00002-93a001d0-1143-41f6-93c8-2ea2589ea7d7",
    "deepnote_cell_height": 82.15625,
    "deepnote_cell_type": "markdown"
   },
   "source": [
    "# Load da base"
   ]
  },
  {
   "cell_type": "code",
   "execution_count": null,
   "id": "d2c81f32",
   "metadata": {
    "cell_id": "00003-3361fa91-e11f-410a-987d-05883a33b64e",
    "deepnote_cell_height": 637.125,
    "deepnote_cell_type": "code",
    "deepnote_to_be_reexecuted": false,
    "execution_millis": 266,
    "execution_start": 1649803655600,
    "scrolled": true,
    "source_hash": "5a942d22"
   },
   "outputs": [
    {
     "data": {
      "application/vnd.deepnote.dataframe.v3+json": {
       "column_count": 81,
       "columns": [
        {
         "dtype": "int64",
         "name": "Id",
         "stats": {
          "histogram": [
           {
            "bin_end": 1.9,
            "bin_start": 1,
            "count": 1
           },
           {
            "bin_end": 2.8,
            "bin_start": 1.9,
            "count": 1
           },
           {
            "bin_end": 3.7,
            "bin_start": 2.8,
            "count": 1
           },
           {
            "bin_end": 4.6,
            "bin_start": 3.7,
            "count": 1
           },
           {
            "bin_end": 5.5,
            "bin_start": 4.6,
            "count": 1
           },
           {
            "bin_end": 6.4,
            "bin_start": 5.5,
            "count": 1
           },
           {
            "bin_end": 7.3,
            "bin_start": 6.4,
            "count": 1
           },
           {
            "bin_end": 8.2,
            "bin_start": 7.3,
            "count": 1
           },
           {
            "bin_end": 9.1,
            "bin_start": 8.2,
            "count": 1
           },
           {
            "bin_end": 10,
            "bin_start": 9.1,
            "count": 1
           }
          ],
          "max": "10",
          "min": "1",
          "nan_count": 0,
          "unique_count": 10
         }
        },
        {
         "dtype": "int64",
         "name": "MSSubClass",
         "stats": {
          "histogram": [
           {
            "bin_end": 37,
            "bin_start": 20,
            "count": 2
           },
           {
            "bin_end": 54,
            "bin_start": 37,
            "count": 2
           },
           {
            "bin_end": 71,
            "bin_start": 54,
            "count": 5
           },
           {
            "bin_end": 88,
            "bin_start": 71,
            "count": 0
           },
           {
            "bin_end": 105,
            "bin_start": 88,
            "count": 0
           },
           {
            "bin_end": 122,
            "bin_start": 105,
            "count": 0
           },
           {
            "bin_end": 139,
            "bin_start": 122,
            "count": 0
           },
           {
            "bin_end": 156,
            "bin_start": 139,
            "count": 0
           },
           {
            "bin_end": 173,
            "bin_start": 156,
            "count": 0
           },
           {
            "bin_end": 190,
            "bin_start": 173,
            "count": 1
           }
          ],
          "max": "190",
          "min": "20",
          "nan_count": 0,
          "unique_count": 5
         }
        },
        {
         "dtype": "object",
         "name": "MSZoning",
         "stats": {
          "categories": [
           {
            "count": 9,
            "name": "RL"
           },
           {
            "count": 1,
            "name": "RM"
           }
          ],
          "nan_count": 0,
          "unique_count": 2
         }
        },
        {
         "dtype": "float64",
         "name": "LotFrontage",
         "stats": {
          "histogram": [
           {
            "bin_end": 53.5,
            "bin_start": 50,
            "count": 2
           },
           {
            "bin_end": 57,
            "bin_start": 53.5,
            "count": 0
           },
           {
            "bin_end": 60.5,
            "bin_start": 57,
            "count": 1
           },
           {
            "bin_end": 64,
            "bin_start": 60.5,
            "count": 0
           },
           {
            "bin_end": 67.5,
            "bin_start": 64,
            "count": 1
           },
           {
            "bin_end": 71,
            "bin_start": 67.5,
            "count": 1
           },
           {
            "bin_end": 74.5,
            "bin_start": 71,
            "count": 0
           },
           {
            "bin_end": 78,
            "bin_start": 74.5,
            "count": 1
           },
           {
            "bin_end": 81.5,
            "bin_start": 78,
            "count": 1
           },
           {
            "bin_end": 85,
            "bin_start": 81.5,
            "count": 2
           }
          ],
          "max": "85.0",
          "min": "50.0",
          "nan_count": 1,
          "unique_count": 9
         }
        },
        {
         "dtype": "int64",
         "name": "LotArea",
         "stats": {
          "histogram": [
           {
            "bin_end": 6934,
            "bin_start": 6120,
            "count": 1
           },
           {
            "bin_end": 7748,
            "bin_start": 6934,
            "count": 1
           },
           {
            "bin_end": 8562,
            "bin_start": 7748,
            "count": 1
           },
           {
            "bin_end": 9376,
            "bin_start": 8562,
            "count": 0
           },
           {
            "bin_end": 10190,
            "bin_start": 9376,
            "count": 3
           },
           {
            "bin_end": 11004,
            "bin_start": 10190,
            "count": 1
           },
           {
            "bin_end": 11818,
            "bin_start": 11004,
            "count": 1
           },
           {
            "bin_end": 12632,
            "bin_start": 11818,
            "count": 0
           },
           {
            "bin_end": 13446,
            "bin_start": 12632,
            "count": 0
           },
           {
            "bin_end": 14260,
            "bin_start": 13446,
            "count": 2
           }
          ],
          "max": "14260",
          "min": "6120",
          "nan_count": 0,
          "unique_count": 10
         }
        },
        {
         "dtype": "object",
         "name": "Street",
         "stats": {
          "categories": [
           {
            "count": 10,
            "name": "Pave"
           }
          ],
          "nan_count": 0,
          "unique_count": 1
         }
        },
        {
         "dtype": "object",
         "name": "Alley",
         "stats": {
          "categories": [
           {
            "count": 10,
            "name": "Missing"
           }
          ],
          "nan_count": 10,
          "unique_count": 0
         }
        },
        {
         "dtype": "object",
         "name": "LotShape",
         "stats": {
          "categories": [
           {
            "count": 5,
            "name": "Reg"
           },
           {
            "count": 5,
            "name": "IR1"
           }
          ],
          "nan_count": 0,
          "unique_count": 2
         }
        },
        {
         "dtype": "object",
         "name": "LandContour",
         "stats": {
          "categories": [
           {
            "count": 10,
            "name": "Lvl"
           }
          ],
          "nan_count": 0,
          "unique_count": 1
         }
        },
        {
         "dtype": "object",
         "name": "Utilities",
         "stats": {
          "categories": [
           {
            "count": 10,
            "name": "AllPub"
           }
          ],
          "nan_count": 0,
          "unique_count": 1
         }
        },
        {
         "dtype": "object",
         "name": "LotConfig",
         "stats": {
          "categories": [
           {
            "count": 5,
            "name": "Inside"
           },
           {
            "count": 3,
            "name": "Corner"
           },
           {
            "count": 2,
            "name": "FR2"
           }
          ],
          "nan_count": 0,
          "unique_count": 3
         }
        },
        {
         "dtype": "object",
         "name": "LandSlope",
         "stats": {
          "categories": [
           {
            "count": 10,
            "name": "Gtl"
           }
          ],
          "nan_count": 0,
          "unique_count": 1
         }
        },
        {
         "dtype": "object",
         "name": "Neighborhood",
         "stats": {
          "categories": [
           {
            "count": 2,
            "name": "CollgCr"
           },
           {
            "count": 1,
            "name": "Veenker"
           },
           {
            "count": 7,
            "name": "7 others"
           }
          ],
          "nan_count": 0,
          "unique_count": 9
         }
        },
        {
         "dtype": "object",
         "name": "Condition1",
         "stats": {
          "categories": [
           {
            "count": 6,
            "name": "Norm"
           },
           {
            "count": 2,
            "name": "Artery"
           },
           {
            "count": 2,
            "name": "2 others"
           }
          ],
          "nan_count": 0,
          "unique_count": 4
         }
        },
        {
         "dtype": "object",
         "name": "Condition2",
         "stats": {
          "categories": [
           {
            "count": 9,
            "name": "Norm"
           },
           {
            "count": 1,
            "name": "Artery"
           }
          ],
          "nan_count": 0,
          "unique_count": 2
         }
        },
        {
         "dtype": "object",
         "name": "BldgType",
         "stats": {
          "categories": [
           {
            "count": 9,
            "name": "1Fam"
           },
           {
            "count": 1,
            "name": "2fmCon"
           }
          ],
          "nan_count": 0,
          "unique_count": 2
         }
        },
        {
         "dtype": "object",
         "name": "HouseStyle",
         "stats": {
          "categories": [
           {
            "count": 5,
            "name": "2Story"
           },
           {
            "count": 2,
            "name": "1Story"
           },
           {
            "count": 3,
            "name": "2 others"
           }
          ],
          "nan_count": 0,
          "unique_count": 4
         }
        },
        {
         "dtype": "int64",
         "name": "OverallQual",
         "stats": {
          "histogram": [
           {
            "bin_end": 5.3,
            "bin_start": 5,
            "count": 2
           },
           {
            "bin_end": 5.6,
            "bin_start": 5.3,
            "count": 0
           },
           {
            "bin_end": 5.9,
            "bin_start": 5.6,
            "count": 0
           },
           {
            "bin_end": 6.2,
            "bin_start": 5.9,
            "count": 1
           },
           {
            "bin_end": 6.5,
            "bin_start": 6.2,
            "count": 0
           },
           {
            "bin_end": 6.8,
            "bin_start": 6.5,
            "count": 0
           },
           {
            "bin_end": 7.1,
            "bin_start": 6.8,
            "count": 5
           },
           {
            "bin_end": 7.4,
            "bin_start": 7.1,
            "count": 0
           },
           {
            "bin_end": 7.699999999999999,
            "bin_start": 7.4,
            "count": 0
           },
           {
            "bin_end": 8,
            "bin_start": 7.699999999999999,
            "count": 2
           }
          ],
          "max": "8",
          "min": "5",
          "nan_count": 0,
          "unique_count": 4
         }
        },
        {
         "dtype": "int64",
         "name": "OverallCond",
         "stats": {
          "histogram": [
           {
            "bin_end": 5.3,
            "bin_start": 5,
            "count": 7
           },
           {
            "bin_end": 5.6,
            "bin_start": 5.3,
            "count": 0
           },
           {
            "bin_end": 5.9,
            "bin_start": 5.6,
            "count": 0
           },
           {
            "bin_end": 6.2,
            "bin_start": 5.9,
            "count": 2
           },
           {
            "bin_end": 6.5,
            "bin_start": 6.2,
            "count": 0
           },
           {
            "bin_end": 6.8,
            "bin_start": 6.5,
            "count": 0
           },
           {
            "bin_end": 7.1,
            "bin_start": 6.8,
            "count": 0
           },
           {
            "bin_end": 7.4,
            "bin_start": 7.1,
            "count": 0
           },
           {
            "bin_end": 7.699999999999999,
            "bin_start": 7.4,
            "count": 0
           },
           {
            "bin_end": 8,
            "bin_start": 7.699999999999999,
            "count": 1
           }
          ],
          "max": "8",
          "min": "5",
          "nan_count": 0,
          "unique_count": 3
         }
        },
        {
         "dtype": "int64",
         "name": "YearBuilt",
         "stats": {
          "histogram": [
           {
            "bin_end": 1923.9,
            "bin_start": 1915,
            "count": 1
           },
           {
            "bin_end": 1932.8,
            "bin_start": 1923.9,
            "count": 1
           },
           {
            "bin_end": 1941.7,
            "bin_start": 1932.8,
            "count": 1
           },
           {
            "bin_end": 1950.6,
            "bin_start": 1941.7,
            "count": 0
           },
           {
            "bin_end": 1959.5,
            "bin_start": 1950.6,
            "count": 0
           },
           {
            "bin_end": 1968.4,
            "bin_start": 1959.5,
            "count": 0
           },
           {
            "bin_end": 1977.3,
            "bin_start": 1968.4,
            "count": 2
           },
           {
            "bin_end": 1986.2,
            "bin_start": 1977.3,
            "count": 0
           },
           {
            "bin_end": 1995.1,
            "bin_start": 1986.2,
            "count": 1
           },
           {
            "bin_end": 2004,
            "bin_start": 1995.1,
            "count": 4
           }
          ],
          "max": "2004",
          "min": "1915",
          "nan_count": 0,
          "unique_count": 10
         }
        },
        {
         "dtype": "int64",
         "name": "YearRemodAdd",
         "stats": {
          "histogram": [
           {
            "bin_end": 1955.5,
            "bin_start": 1950,
            "count": 2
           },
           {
            "bin_end": 1961,
            "bin_start": 1955.5,
            "count": 0
           },
           {
            "bin_end": 1966.5,
            "bin_start": 1961,
            "count": 0
           },
           {
            "bin_end": 1972,
            "bin_start": 1966.5,
            "count": 1
           },
           {
            "bin_end": 1977.5,
            "bin_start": 1972,
            "count": 2
           },
           {
            "bin_end": 1983,
            "bin_start": 1977.5,
            "count": 0
           },
           {
            "bin_end": 1988.5,
            "bin_start": 1983,
            "count": 0
           },
           {
            "bin_end": 1994,
            "bin_start": 1988.5,
            "count": 0
           },
           {
            "bin_end": 1999.5,
            "bin_start": 1994,
            "count": 1
           },
           {
            "bin_end": 2005,
            "bin_start": 1999.5,
            "count": 4
           }
          ],
          "max": "2005",
          "min": "1950",
          "nan_count": 0,
          "unique_count": 9
         }
        },
        {
         "dtype": "object",
         "name": "RoofStyle",
         "stats": {
          "categories": [
           {
            "count": 10,
            "name": "Gable"
           }
          ],
          "nan_count": 0,
          "unique_count": 1
         }
        },
        {
         "dtype": "object",
         "name": "RoofMatl",
         "stats": {
          "categories": [
           {
            "count": 10,
            "name": "CompShg"
           }
          ],
          "nan_count": 0,
          "unique_count": 1
         }
        },
        {
         "dtype": "object",
         "name": "Exterior1st",
         "stats": {
          "categories": [
           {
            "count": 5,
            "name": "VinylSd"
           },
           {
            "count": 2,
            "name": "MetalSd"
           },
           {
            "count": 3,
            "name": "3 others"
           }
          ],
          "nan_count": 0,
          "unique_count": 5
         }
        },
        {
         "dtype": "object",
         "name": "Exterior2nd",
         "stats": {
          "categories": [
           {
            "count": 5,
            "name": "VinylSd"
           },
           {
            "count": 2,
            "name": "MetalSd"
           },
           {
            "count": 3,
            "name": "2 others"
           }
          ],
          "nan_count": 0,
          "unique_count": 4
         }
        },
        {
         "dtype": "object",
         "name": "MasVnrType",
         "stats": {
          "categories": [
           {
            "count": 5,
            "name": "None"
           },
           {
            "count": 3,
            "name": "BrkFace"
           },
           {
            "count": 2,
            "name": "Stone"
           }
          ],
          "nan_count": 0,
          "unique_count": 3
         }
        },
        {
         "dtype": "float64",
         "name": "MasVnrArea",
         "stats": {
          "histogram": [
           {
            "bin_end": 35,
            "bin_start": 0,
            "count": 5
           },
           {
            "bin_end": 70,
            "bin_start": 35,
            "count": 0
           },
           {
            "bin_end": 105,
            "bin_start": 70,
            "count": 0
           },
           {
            "bin_end": 140,
            "bin_start": 105,
            "count": 0
           },
           {
            "bin_end": 175,
            "bin_start": 140,
            "count": 1
           },
           {
            "bin_end": 210,
            "bin_start": 175,
            "count": 2
           },
           {
            "bin_end": 245,
            "bin_start": 210,
            "count": 1
           },
           {
            "bin_end": 280,
            "bin_start": 245,
            "count": 0
           },
           {
            "bin_end": 315,
            "bin_start": 280,
            "count": 0
           },
           {
            "bin_end": 350,
            "bin_start": 315,
            "count": 1
           }
          ],
          "max": "350.0",
          "min": "0.0",
          "nan_count": 0,
          "unique_count": 6
         }
        },
        {
         "dtype": "object",
         "name": "ExterQual",
         "stats": {
          "categories": [
           {
            "count": 6,
            "name": "TA"
           },
           {
            "count": 4,
            "name": "Gd"
           }
          ],
          "nan_count": 0,
          "unique_count": 2
         }
        },
        {
         "dtype": "object",
         "name": "ExterCond",
         "stats": {
          "categories": [
           {
            "count": 10,
            "name": "TA"
           }
          ],
          "nan_count": 0,
          "unique_count": 1
         }
        },
        {
         "dtype": "object",
         "name": "Foundation",
         "stats": {
          "categories": [
           {
            "count": 4,
            "name": "PConc"
           },
           {
            "count": 3,
            "name": "BrkTil"
           },
           {
            "count": 3,
            "name": "2 others"
           }
          ],
          "nan_count": 0,
          "unique_count": 4
         }
        },
        {
         "dtype": "object",
         "name": "BsmtQual",
         "stats": {
          "categories": [
           {
            "count": 6,
            "name": "Gd"
           },
           {
            "count": 3,
            "name": "TA"
           },
           {
            "count": 1,
            "name": "Ex"
           }
          ],
          "nan_count": 0,
          "unique_count": 3
         }
        },
        {
         "dtype": "object",
         "name": "BsmtCond",
         "stats": {
          "categories": [
           {
            "count": 9,
            "name": "TA"
           },
           {
            "count": 1,
            "name": "Gd"
           }
          ],
          "nan_count": 0,
          "unique_count": 2
         }
        },
        {
         "dtype": "object",
         "name": "BsmtExposure",
         "stats": {
          "categories": [
           {
            "count": 5,
            "name": "No"
           },
           {
            "count": 2,
            "name": "Mn"
           },
           {
            "count": 3,
            "name": "2 others"
           }
          ],
          "nan_count": 0,
          "unique_count": 4
         }
        },
        {
         "dtype": "object",
         "name": "BsmtFinType1",
         "stats": {
          "categories": [
           {
            "count": 6,
            "name": "GLQ"
           },
           {
            "count": 3,
            "name": "ALQ"
           },
           {
            "count": 1,
            "name": "Unf"
           }
          ],
          "nan_count": 0,
          "unique_count": 3
         }
        },
        {
         "dtype": "int64",
         "name": "BsmtFinSF1",
         "stats": {
          "histogram": [
           {
            "bin_end": 136.9,
            "bin_start": 0,
            "count": 1
           },
           {
            "bin_end": 273.8,
            "bin_start": 136.9,
            "count": 1
           },
           {
            "bin_end": 410.70000000000005,
            "bin_start": 273.8,
            "count": 0
           },
           {
            "bin_end": 547.6,
            "bin_start": 410.70000000000005,
            "count": 1
           },
           {
            "bin_end": 684.5,
            "bin_start": 547.6,
            "count": 1
           },
           {
            "bin_end": 821.4000000000001,
            "bin_start": 684.5,
            "count": 2
           },
           {
            "bin_end": 958.3000000000001,
            "bin_start": 821.4000000000001,
            "count": 2
           },
           {
            "bin_end": 1095.2,
            "bin_start": 958.3000000000001,
            "count": 1
           },
           {
            "bin_end": 1232.1000000000001,
            "bin_start": 1095.2,
            "count": 0
           },
           {
            "bin_end": 1369,
            "bin_start": 1232.1000000000001,
            "count": 1
           }
          ],
          "max": "1369",
          "min": "0",
          "nan_count": 0,
          "unique_count": 10
         }
        },
        {
         "dtype": "object",
         "name": "BsmtFinType2",
         "stats": {
          "categories": [
           {
            "count": 9,
            "name": "Unf"
           },
           {
            "count": 1,
            "name": "BLQ"
           }
          ],
          "nan_count": 0,
          "unique_count": 2
         }
        },
        {
         "dtype": "int64",
         "name": "BsmtFinSF2",
         "stats": {
          "histogram": [
           {
            "bin_end": 3.2,
            "bin_start": 0,
            "count": 9
           },
           {
            "bin_end": 6.4,
            "bin_start": 3.2,
            "count": 0
           },
           {
            "bin_end": 9.600000000000001,
            "bin_start": 6.4,
            "count": 0
           },
           {
            "bin_end": 12.8,
            "bin_start": 9.600000000000001,
            "count": 0
           },
           {
            "bin_end": 16,
            "bin_start": 12.8,
            "count": 0
           },
           {
            "bin_end": 19.200000000000003,
            "bin_start": 16,
            "count": 0
           },
           {
            "bin_end": 22.400000000000002,
            "bin_start": 19.200000000000003,
            "count": 0
           },
           {
            "bin_end": 25.6,
            "bin_start": 22.400000000000002,
            "count": 0
           },
           {
            "bin_end": 28.8,
            "bin_start": 25.6,
            "count": 0
           },
           {
            "bin_end": 32,
            "bin_start": 28.8,
            "count": 1
           }
          ],
          "max": "32",
          "min": "0",
          "nan_count": 0,
          "unique_count": 2
         }
        },
        {
         "dtype": "int64",
         "name": "BsmtUnfSF",
         "stats": {
          "histogram": [
           {
            "bin_end": 152.8,
            "bin_start": 64,
            "count": 3
           },
           {
            "bin_end": 241.6,
            "bin_start": 152.8,
            "count": 1
           },
           {
            "bin_end": 330.4,
            "bin_start": 241.6,
            "count": 2
           },
           {
            "bin_end": 419.2,
            "bin_start": 330.4,
            "count": 0
           },
           {
            "bin_end": 508,
            "bin_start": 419.2,
            "count": 2
           },
           {
            "bin_end": 596.8,
            "bin_start": 508,
            "count": 1
           },
           {
            "bin_end": 685.6,
            "bin_start": 596.8,
            "count": 0
           },
           {
            "bin_end": 774.4,
            "bin_start": 685.6,
            "count": 0
           },
           {
            "bin_end": 863.1999999999999,
            "bin_start": 774.4,
            "count": 0
           },
           {
            "bin_end": 952,
            "bin_start": 863.1999999999999,
            "count": 1
           }
          ],
          "max": "952",
          "min": "64",
          "nan_count": 0,
          "unique_count": 10
         }
        },
        {
         "dtype": "int64",
         "name": "TotalBsmtSF",
         "stats": {
          "histogram": [
           {
            "bin_end": 849,
            "bin_start": 756,
            "count": 2
           },
           {
            "bin_end": 942,
            "bin_start": 849,
            "count": 2
           },
           {
            "bin_end": 1035,
            "bin_start": 942,
            "count": 2
           },
           {
            "bin_end": 1128,
            "bin_start": 1035,
            "count": 1
           },
           {
            "bin_end": 1221,
            "bin_start": 1128,
            "count": 1
           },
           {
            "bin_end": 1314,
            "bin_start": 1221,
            "count": 1
           },
           {
            "bin_end": 1407,
            "bin_start": 1314,
            "count": 0
           },
           {
            "bin_end": 1500,
            "bin_start": 1407,
            "count": 0
           },
           {
            "bin_end": 1593,
            "bin_start": 1500,
            "count": 0
           },
           {
            "bin_end": 1686,
            "bin_start": 1593,
            "count": 1
           }
          ],
          "max": "1686",
          "min": "756",
          "nan_count": 0,
          "unique_count": 10
         }
        },
        {
         "dtype": "object",
         "name": "Heating",
         "stats": {
          "categories": [
           {
            "count": 10,
            "name": "GasA"
           }
          ],
          "nan_count": 0,
          "unique_count": 1
         }
        },
        {
         "dtype": "object",
         "name": "HeatingQC",
         "stats": {
          "categories": [
           {
            "count": 8,
            "name": "Ex"
           },
           {
            "count": 2,
            "name": "Gd"
           }
          ],
          "nan_count": 0,
          "unique_count": 2
         }
        },
        {
         "dtype": "object",
         "name": "CentralAir",
         "stats": {
          "categories": [
           {
            "count": 10,
            "name": "Y"
           }
          ],
          "nan_count": 0,
          "unique_count": 1
         }
        },
        {
         "dtype": "object",
         "name": "Electrical",
         "stats": {
          "categories": [
           {
            "count": 9,
            "name": "SBrkr"
           },
           {
            "count": 1,
            "name": "FuseF"
           }
          ],
          "nan_count": 0,
          "unique_count": 2
         }
        },
        {
         "dtype": "int64",
         "name": "1stFlrSF",
         "stats": {
          "histogram": [
           {
            "bin_end": 885.8,
            "bin_start": 796,
            "count": 2
           },
           {
            "bin_end": 975.6,
            "bin_start": 885.8,
            "count": 2
           },
           {
            "bin_end": 1065.4,
            "bin_start": 975.6,
            "count": 1
           },
           {
            "bin_end": 1155.2,
            "bin_start": 1065.4,
            "count": 3
           },
           {
            "bin_end": 1245,
            "bin_start": 1155.2,
            "count": 0
           },
           {
            "bin_end": 1334.8,
            "bin_start": 1245,
            "count": 1
           },
           {
            "bin_end": 1424.6,
            "bin_start": 1334.8,
            "count": 0
           },
           {
            "bin_end": 1514.4,
            "bin_start": 1424.6,
            "count": 0
           },
           {
            "bin_end": 1604.1999999999998,
            "bin_start": 1514.4,
            "count": 0
           },
           {
            "bin_end": 1694,
            "bin_start": 1604.1999999999998,
            "count": 1
           }
          ],
          "max": "1694",
          "min": "796",
          "nan_count": 0,
          "unique_count": 10
         }
        },
        {
         "dtype": "int64",
         "name": "2ndFlrSF",
         "stats": {
          "histogram": [
           {
            "bin_end": 105.3,
            "bin_start": 0,
            "count": 3
           },
           {
            "bin_end": 210.6,
            "bin_start": 105.3,
            "count": 0
           },
           {
            "bin_end": 315.9,
            "bin_start": 210.6,
            "count": 0
           },
           {
            "bin_end": 421.2,
            "bin_start": 315.9,
            "count": 0
           },
           {
            "bin_end": 526.5,
            "bin_start": 421.2,
            "count": 0
           },
           {
            "bin_end": 631.8,
            "bin_start": 526.5,
            "count": 1
           },
           {
            "bin_end": 737.1,
            "bin_start": 631.8,
            "count": 0
           },
           {
            "bin_end": 842.4,
            "bin_start": 737.1,
            "count": 2
           },
           {
            "bin_end": 947.6999999999999,
            "bin_start": 842.4,
            "count": 2
           },
           {
            "bin_end": 1053,
            "bin_start": 947.6999999999999,
            "count": 2
           }
          ],
          "max": "1053",
          "min": "0",
          "nan_count": 0,
          "unique_count": 8
         }
        },
        {
         "dtype": "int64",
         "name": "LowQualFinSF",
         "stats": {
          "histogram": [
           {
            "bin_end": -0.4,
            "bin_start": -0.5,
            "count": 0
           },
           {
            "bin_end": -0.3,
            "bin_start": -0.4,
            "count": 0
           },
           {
            "bin_end": -0.19999999999999996,
            "bin_start": -0.3,
            "count": 0
           },
           {
            "bin_end": -0.09999999999999998,
            "bin_start": -0.19999999999999996,
            "count": 0
           },
           {
            "bin_end": 0,
            "bin_start": -0.09999999999999998,
            "count": 0
           },
           {
            "bin_end": 0.10000000000000009,
            "bin_start": 0,
            "count": 10
           },
           {
            "bin_end": 0.20000000000000007,
            "bin_start": 0.10000000000000009,
            "count": 0
           },
           {
            "bin_end": 0.30000000000000004,
            "bin_start": 0.20000000000000007,
            "count": 0
           },
           {
            "bin_end": 0.4,
            "bin_start": 0.30000000000000004,
            "count": 0
           },
           {
            "bin_end": 0.5,
            "bin_start": 0.4,
            "count": 0
           }
          ],
          "max": "0",
          "min": "0",
          "nan_count": 0,
          "unique_count": 1
         }
        },
        {
         "dtype": "int64",
         "name": "GrLivArea",
         "stats": {
          "histogram": [
           {
            "bin_end": 1189.1,
            "bin_start": 1077,
            "count": 1
           },
           {
            "bin_end": 1301.2,
            "bin_start": 1189.1,
            "count": 1
           },
           {
            "bin_end": 1413.3,
            "bin_start": 1301.2,
            "count": 1
           },
           {
            "bin_end": 1525.4,
            "bin_start": 1413.3,
            "count": 0
           },
           {
            "bin_end": 1637.5,
            "bin_start": 1525.4,
            "count": 0
           },
           {
            "bin_end": 1749.6,
            "bin_start": 1637.5,
            "count": 3
           },
           {
            "bin_end": 1861.6999999999998,
            "bin_start": 1749.6,
            "count": 2
           },
           {
            "bin_end": 1973.8,
            "bin_start": 1861.6999999999998,
            "count": 0
           },
           {
            "bin_end": 2085.9,
            "bin_start": 1973.8,
            "count": 0
           },
           {
            "bin_end": 2198,
            "bin_start": 2085.9,
            "count": 2
           }
          ],
          "max": "2198",
          "min": "1077",
          "nan_count": 0,
          "unique_count": 10
         }
        },
        {
         "dtype": "int64",
         "name": "BsmtFullBath",
         "stats": {
          "histogram": [
           {
            "bin_end": 0.1,
            "bin_start": 0,
            "count": 2
           },
           {
            "bin_end": 0.2,
            "bin_start": 0.1,
            "count": 0
           },
           {
            "bin_end": 0.30000000000000004,
            "bin_start": 0.2,
            "count": 0
           },
           {
            "bin_end": 0.4,
            "bin_start": 0.30000000000000004,
            "count": 0
           },
           {
            "bin_end": 0.5,
            "bin_start": 0.4,
            "count": 0
           },
           {
            "bin_end": 0.6000000000000001,
            "bin_start": 0.5,
            "count": 0
           },
           {
            "bin_end": 0.7000000000000001,
            "bin_start": 0.6000000000000001,
            "count": 0
           },
           {
            "bin_end": 0.8,
            "bin_start": 0.7000000000000001,
            "count": 0
           },
           {
            "bin_end": 0.9,
            "bin_start": 0.8,
            "count": 0
           },
           {
            "bin_end": 1,
            "bin_start": 0.9,
            "count": 8
           }
          ],
          "max": "1",
          "min": "0",
          "nan_count": 0,
          "unique_count": 2
         }
        },
        {
         "dtype": "int64",
         "name": "BsmtHalfBath",
         "stats": {
          "histogram": [
           {
            "bin_end": 0.1,
            "bin_start": 0,
            "count": 9
           },
           {
            "bin_end": 0.2,
            "bin_start": 0.1,
            "count": 0
           },
           {
            "bin_end": 0.30000000000000004,
            "bin_start": 0.2,
            "count": 0
           },
           {
            "bin_end": 0.4,
            "bin_start": 0.30000000000000004,
            "count": 0
           },
           {
            "bin_end": 0.5,
            "bin_start": 0.4,
            "count": 0
           },
           {
            "bin_end": 0.6000000000000001,
            "bin_start": 0.5,
            "count": 0
           },
           {
            "bin_end": 0.7000000000000001,
            "bin_start": 0.6000000000000001,
            "count": 0
           },
           {
            "bin_end": 0.8,
            "bin_start": 0.7000000000000001,
            "count": 0
           },
           {
            "bin_end": 0.9,
            "bin_start": 0.8,
            "count": 0
           },
           {
            "bin_end": 1,
            "bin_start": 0.9,
            "count": 1
           }
          ],
          "max": "1",
          "min": "0",
          "nan_count": 0,
          "unique_count": 2
         }
        },
        {
         "dtype": "int64",
         "name": "FullBath",
         "stats": {
          "histogram": [
           {
            "bin_end": 1.1,
            "bin_start": 1,
            "count": 3
           },
           {
            "bin_end": 1.2,
            "bin_start": 1.1,
            "count": 0
           },
           {
            "bin_end": 1.3,
            "bin_start": 1.2,
            "count": 0
           },
           {
            "bin_end": 1.4,
            "bin_start": 1.3,
            "count": 0
           },
           {
            "bin_end": 1.5,
            "bin_start": 1.4,
            "count": 0
           },
           {
            "bin_end": 1.6,
            "bin_start": 1.5,
            "count": 0
           },
           {
            "bin_end": 1.7000000000000002,
            "bin_start": 1.6,
            "count": 0
           },
           {
            "bin_end": 1.8,
            "bin_start": 1.7000000000000002,
            "count": 0
           },
           {
            "bin_end": 1.9,
            "bin_start": 1.8,
            "count": 0
           },
           {
            "bin_end": 2,
            "bin_start": 1.9,
            "count": 7
           }
          ],
          "max": "2",
          "min": "1",
          "nan_count": 0,
          "unique_count": 2
         }
        },
        {
         "dtype": "int64",
         "name": "HalfBath",
         "stats": {
          "histogram": [
           {
            "bin_end": 0.1,
            "bin_start": 0,
            "count": 5
           },
           {
            "bin_end": 0.2,
            "bin_start": 0.1,
            "count": 0
           },
           {
            "bin_end": 0.30000000000000004,
            "bin_start": 0.2,
            "count": 0
           },
           {
            "bin_end": 0.4,
            "bin_start": 0.30000000000000004,
            "count": 0
           },
           {
            "bin_end": 0.5,
            "bin_start": 0.4,
            "count": 0
           },
           {
            "bin_end": 0.6000000000000001,
            "bin_start": 0.5,
            "count": 0
           },
           {
            "bin_end": 0.7000000000000001,
            "bin_start": 0.6000000000000001,
            "count": 0
           },
           {
            "bin_end": 0.8,
            "bin_start": 0.7000000000000001,
            "count": 0
           },
           {
            "bin_end": 0.9,
            "bin_start": 0.8,
            "count": 0
           },
           {
            "bin_end": 1,
            "bin_start": 0.9,
            "count": 5
           }
          ],
          "max": "1",
          "min": "0",
          "nan_count": 0,
          "unique_count": 2
         }
        },
        {
         "dtype": "int64",
         "name": "BedroomAbvGr",
         "stats": {
          "histogram": [
           {
            "bin_end": 1.3,
            "bin_start": 1,
            "count": 1
           },
           {
            "bin_end": 1.6,
            "bin_start": 1.3,
            "count": 0
           },
           {
            "bin_end": 1.9,
            "bin_start": 1.6,
            "count": 0
           },
           {
            "bin_end": 2.2,
            "bin_start": 1.9,
            "count": 2
           },
           {
            "bin_end": 2.5,
            "bin_start": 2.2,
            "count": 0
           },
           {
            "bin_end": 2.8,
            "bin_start": 2.5,
            "count": 0
           },
           {
            "bin_end": 3.1,
            "bin_start": 2.8,
            "count": 6
           },
           {
            "bin_end": 3.4,
            "bin_start": 3.1,
            "count": 0
           },
           {
            "bin_end": 3.6999999999999997,
            "bin_start": 3.4,
            "count": 0
           },
           {
            "bin_end": 4,
            "bin_start": 3.6999999999999997,
            "count": 1
           }
          ],
          "max": "4",
          "min": "1",
          "nan_count": 0,
          "unique_count": 4
         }
        },
        {
         "dtype": "int64",
         "name": "KitchenAbvGr",
         "stats": {
          "histogram": [
           {
            "bin_end": 1.1,
            "bin_start": 1,
            "count": 8
           },
           {
            "bin_end": 1.2,
            "bin_start": 1.1,
            "count": 0
           },
           {
            "bin_end": 1.3,
            "bin_start": 1.2,
            "count": 0
           },
           {
            "bin_end": 1.4,
            "bin_start": 1.3,
            "count": 0
           },
           {
            "bin_end": 1.5,
            "bin_start": 1.4,
            "count": 0
           },
           {
            "bin_end": 1.6,
            "bin_start": 1.5,
            "count": 0
           },
           {
            "bin_end": 1.7000000000000002,
            "bin_start": 1.6,
            "count": 0
           },
           {
            "bin_end": 1.8,
            "bin_start": 1.7000000000000002,
            "count": 0
           },
           {
            "bin_end": 1.9,
            "bin_start": 1.8,
            "count": 0
           },
           {
            "bin_end": 2,
            "bin_start": 1.9,
            "count": 2
           }
          ],
          "max": "2",
          "min": "1",
          "nan_count": 0,
          "unique_count": 2
         }
        },
        {
         "dtype": "object",
         "name": "KitchenQual",
         "stats": {
          "categories": [
           {
            "count": 5,
            "name": "Gd"
           },
           {
            "count": 5,
            "name": "TA"
           }
          ],
          "nan_count": 0,
          "unique_count": 2
         }
        },
        {
         "dtype": "int64",
         "name": "TotRmsAbvGrd",
         "stats": {
          "histogram": [
           {
            "bin_end": 5.4,
            "bin_start": 5,
            "count": 2
           },
           {
            "bin_end": 5.8,
            "bin_start": 5.4,
            "count": 0
           },
           {
            "bin_end": 6.2,
            "bin_start": 5.8,
            "count": 2
           },
           {
            "bin_end": 6.6,
            "bin_start": 6.2,
            "count": 0
           },
           {
            "bin_end": 7,
            "bin_start": 6.6,
            "count": 0
           },
           {
            "bin_end": 7.4,
            "bin_start": 7,
            "count": 3
           },
           {
            "bin_end": 7.800000000000001,
            "bin_start": 7.4,
            "count": 0
           },
           {
            "bin_end": 8.2,
            "bin_start": 7.800000000000001,
            "count": 2
           },
           {
            "bin_end": 8.6,
            "bin_start": 8.2,
            "count": 0
           },
           {
            "bin_end": 9,
            "bin_start": 8.6,
            "count": 1
           }
          ],
          "max": "9",
          "min": "5",
          "nan_count": 0,
          "unique_count": 5
         }
        },
        {
         "dtype": "object",
         "name": "Functional",
         "stats": {
          "categories": [
           {
            "count": 9,
            "name": "Typ"
           },
           {
            "count": 1,
            "name": "Min1"
           }
          ],
          "nan_count": 0,
          "unique_count": 2
         }
        },
        {
         "dtype": "int64",
         "name": "Fireplaces",
         "stats": {
          "histogram": [
           {
            "bin_end": 0.2,
            "bin_start": 0,
            "count": 2
           },
           {
            "bin_end": 0.4,
            "bin_start": 0.2,
            "count": 0
           },
           {
            "bin_end": 0.6000000000000001,
            "bin_start": 0.4,
            "count": 0
           },
           {
            "bin_end": 0.8,
            "bin_start": 0.6000000000000001,
            "count": 0
           },
           {
            "bin_end": 1,
            "bin_start": 0.8,
            "count": 0
           },
           {
            "bin_end": 1.2000000000000002,
            "bin_start": 1,
            "count": 5
           },
           {
            "bin_end": 1.4000000000000001,
            "bin_start": 1.2000000000000002,
            "count": 0
           },
           {
            "bin_end": 1.6,
            "bin_start": 1.4000000000000001,
            "count": 0
           },
           {
            "bin_end": 1.8,
            "bin_start": 1.6,
            "count": 0
           },
           {
            "bin_end": 2,
            "bin_start": 1.8,
            "count": 3
           }
          ],
          "max": "2",
          "min": "0",
          "nan_count": 0,
          "unique_count": 3
         }
        },
        {
         "dtype": "object",
         "name": "FireplaceQu",
         "stats": {
          "categories": [
           {
            "count": 6,
            "name": "TA"
           },
           {
            "count": 2,
            "name": "Gd"
           },
           {
            "count": 2,
            "name": "Missing"
           }
          ],
          "nan_count": 2,
          "unique_count": 2
         }
        },
        {
         "dtype": "object",
         "name": "GarageType",
         "stats": {
          "categories": [
           {
            "count": 8,
            "name": "Attchd"
           },
           {
            "count": 2,
            "name": "Detchd"
           }
          ],
          "nan_count": 0,
          "unique_count": 2
         }
        },
        {
         "dtype": "float64",
         "name": "GarageYrBlt",
         "stats": {
          "histogram": [
           {
            "bin_end": 1938.3,
            "bin_start": 1931,
            "count": 1
           },
           {
            "bin_end": 1945.6,
            "bin_start": 1938.3,
            "count": 1
           },
           {
            "bin_end": 1952.9,
            "bin_start": 1945.6,
            "count": 0
           },
           {
            "bin_end": 1960.2,
            "bin_start": 1952.9,
            "count": 0
           },
           {
            "bin_end": 1967.5,
            "bin_start": 1960.2,
            "count": 0
           },
           {
            "bin_end": 1974.8,
            "bin_start": 1967.5,
            "count": 1
           },
           {
            "bin_end": 1982.1,
            "bin_start": 1974.8,
            "count": 1
           },
           {
            "bin_end": 1989.4,
            "bin_start": 1982.1,
            "count": 0
           },
           {
            "bin_end": 1996.7,
            "bin_start": 1989.4,
            "count": 1
           },
           {
            "bin_end": 2004,
            "bin_start": 1996.7,
            "count": 5
           }
          ],
          "max": "2004.0",
          "min": "1931.0",
          "nan_count": 0,
          "unique_count": 10
         }
        },
        {
         "dtype": "object",
         "name": "GarageFinish",
         "stats": {
          "categories": [
           {
            "count": 7,
            "name": "RFn"
           },
           {
            "count": 3,
            "name": "Unf"
           }
          ],
          "nan_count": 0,
          "unique_count": 2
         }
        },
        {
         "dtype": "int64",
         "name": "GarageCars",
         "stats": {
          "histogram": [
           {
            "bin_end": 1.2,
            "bin_start": 1,
            "count": 1
           },
           {
            "bin_end": 1.4,
            "bin_start": 1.2,
            "count": 0
           },
           {
            "bin_end": 1.6,
            "bin_start": 1.4,
            "count": 0
           },
           {
            "bin_end": 1.8,
            "bin_start": 1.6,
            "count": 0
           },
           {
            "bin_end": 2,
            "bin_start": 1.8,
            "count": 0
           },
           {
            "bin_end": 2.2,
            "bin_start": 2,
            "count": 7
           },
           {
            "bin_end": 2.4000000000000004,
            "bin_start": 2.2,
            "count": 0
           },
           {
            "bin_end": 2.6,
            "bin_start": 2.4000000000000004,
            "count": 0
           },
           {
            "bin_end": 2.8,
            "bin_start": 2.6,
            "count": 0
           },
           {
            "bin_end": 3,
            "bin_start": 2.8,
            "count": 2
           }
          ],
          "max": "3",
          "min": "1",
          "nan_count": 0,
          "unique_count": 3
         }
        },
        {
         "dtype": "int64",
         "name": "GarageArea",
         "stats": {
          "histogram": [
           {
            "bin_end": 268.1,
            "bin_start": 205,
            "count": 1
           },
           {
            "bin_end": 331.2,
            "bin_start": 268.1,
            "count": 0
           },
           {
            "bin_end": 394.3,
            "bin_start": 331.2,
            "count": 0
           },
           {
            "bin_end": 457.4,
            "bin_start": 394.3,
            "count": 0
           },
           {
            "bin_end": 520.5,
            "bin_start": 457.4,
            "count": 4
           },
           {
            "bin_end": 583.6,
            "bin_start": 520.5,
            "count": 1
           },
           {
            "bin_end": 646.7,
            "bin_start": 583.6,
            "count": 3
           },
           {
            "bin_end": 709.8,
            "bin_start": 646.7,
            "count": 0
           },
           {
            "bin_end": 772.9,
            "bin_start": 709.8,
            "count": 0
           },
           {
            "bin_end": 836,
            "bin_start": 772.9,
            "count": 1
           }
          ],
          "max": "836",
          "min": "205",
          "nan_count": 0,
          "unique_count": 10
         }
        },
        {
         "dtype": "object",
         "name": "GarageQual",
         "stats": {
          "categories": [
           {
            "count": 8,
            "name": "TA"
           },
           {
            "count": 1,
            "name": "Fa"
           },
           {
            "count": 1,
            "name": "Gd"
           }
          ],
          "nan_count": 0,
          "unique_count": 3
         }
        },
        {
         "dtype": "object",
         "name": "GarageCond",
         "stats": {
          "categories": [
           {
            "count": 10,
            "name": "TA"
           }
          ],
          "nan_count": 0,
          "unique_count": 1
         }
        },
        {
         "dtype": "object",
         "name": "PavedDrive",
         "stats": {
          "categories": [
           {
            "count": 10,
            "name": "Y"
           }
          ],
          "nan_count": 0,
          "unique_count": 1
         }
        },
        {
         "dtype": "int64",
         "name": "WoodDeckSF",
         "stats": {
          "histogram": [
           {
            "bin_end": 29.8,
            "bin_start": 0,
            "count": 4
           },
           {
            "bin_end": 59.6,
            "bin_start": 29.8,
            "count": 1
           },
           {
            "bin_end": 89.4,
            "bin_start": 59.6,
            "count": 0
           },
           {
            "bin_end": 119.2,
            "bin_start": 89.4,
            "count": 1
           },
           {
            "bin_end": 149,
            "bin_start": 119.2,
            "count": 0
           },
           {
            "bin_end": 178.8,
            "bin_start": 149,
            "count": 0
           },
           {
            "bin_end": 208.6,
            "bin_start": 178.8,
            "count": 1
           },
           {
            "bin_end": 238.4,
            "bin_start": 208.6,
            "count": 1
           },
           {
            "bin_end": 268.2,
            "bin_start": 238.4,
            "count": 1
           },
           {
            "bin_end": 298,
            "bin_start": 268.2,
            "count": 1
           }
          ],
          "max": "298",
          "min": "0",
          "nan_count": 0,
          "unique_count": 7
         }
        },
        {
         "dtype": "int64",
         "name": "OpenPorchSF",
         "stats": {
          "histogram": [
           {
            "bin_end": 20.4,
            "bin_start": 0,
            "count": 3
           },
           {
            "bin_end": 40.8,
            "bin_start": 20.4,
            "count": 2
           },
           {
            "bin_end": 61.199999999999996,
            "bin_start": 40.8,
            "count": 3
           },
           {
            "bin_end": 81.6,
            "bin_start": 61.199999999999996,
            "count": 0
           },
           {
            "bin_end": 102,
            "bin_start": 81.6,
            "count": 1
           },
           {
            "bin_end": 122.39999999999999,
            "bin_start": 102,
            "count": 0
           },
           {
            "bin_end": 142.79999999999998,
            "bin_start": 122.39999999999999,
            "count": 0
           },
           {
            "bin_end": 163.2,
            "bin_start": 142.79999999999998,
            "count": 0
           },
           {
            "bin_end": 183.6,
            "bin_start": 163.2,
            "count": 0
           },
           {
            "bin_end": 204,
            "bin_start": 183.6,
            "count": 1
           }
          ],
          "max": "204",
          "min": "0",
          "nan_count": 0,
          "unique_count": 9
         }
        },
        {
         "dtype": "int64",
         "name": "EnclosedPorch",
         "stats": {
          "histogram": [
           {
            "bin_end": 27.2,
            "bin_start": 0,
            "count": 7
           },
           {
            "bin_end": 54.4,
            "bin_start": 27.2,
            "count": 0
           },
           {
            "bin_end": 81.6,
            "bin_start": 54.4,
            "count": 0
           },
           {
            "bin_end": 108.8,
            "bin_start": 81.6,
            "count": 0
           },
           {
            "bin_end": 136,
            "bin_start": 108.8,
            "count": 0
           },
           {
            "bin_end": 163.2,
            "bin_start": 136,
            "count": 0
           },
           {
            "bin_end": 190.4,
            "bin_start": 163.2,
            "count": 0
           },
           {
            "bin_end": 217.6,
            "bin_start": 190.4,
            "count": 1
           },
           {
            "bin_end": 244.79999999999998,
            "bin_start": 217.6,
            "count": 1
           },
           {
            "bin_end": 272,
            "bin_start": 244.79999999999998,
            "count": 1
           }
          ],
          "max": "272",
          "min": "0",
          "nan_count": 0,
          "unique_count": 4
         }
        },
        {
         "dtype": "int64",
         "name": "3SsnPorch",
         "stats": {
          "histogram": [
           {
            "bin_end": 32,
            "bin_start": 0,
            "count": 9
           },
           {
            "bin_end": 64,
            "bin_start": 32,
            "count": 0
           },
           {
            "bin_end": 96,
            "bin_start": 64,
            "count": 0
           },
           {
            "bin_end": 128,
            "bin_start": 96,
            "count": 0
           },
           {
            "bin_end": 160,
            "bin_start": 128,
            "count": 0
           },
           {
            "bin_end": 192,
            "bin_start": 160,
            "count": 0
           },
           {
            "bin_end": 224,
            "bin_start": 192,
            "count": 0
           },
           {
            "bin_end": 256,
            "bin_start": 224,
            "count": 0
           },
           {
            "bin_end": 288,
            "bin_start": 256,
            "count": 0
           },
           {
            "bin_end": 320,
            "bin_start": 288,
            "count": 1
           }
          ],
          "max": "320",
          "min": "0",
          "nan_count": 0,
          "unique_count": 2
         }
        },
        {
         "dtype": "int64",
         "name": "ScreenPorch",
         "stats": {
          "histogram": [
           {
            "bin_end": -0.4,
            "bin_start": -0.5,
            "count": 0
           },
           {
            "bin_end": -0.3,
            "bin_start": -0.4,
            "count": 0
           },
           {
            "bin_end": -0.19999999999999996,
            "bin_start": -0.3,
            "count": 0
           },
           {
            "bin_end": -0.09999999999999998,
            "bin_start": -0.19999999999999996,
            "count": 0
           },
           {
            "bin_end": 0,
            "bin_start": -0.09999999999999998,
            "count": 0
           },
           {
            "bin_end": 0.10000000000000009,
            "bin_start": 0,
            "count": 10
           },
           {
            "bin_end": 0.20000000000000007,
            "bin_start": 0.10000000000000009,
            "count": 0
           },
           {
            "bin_end": 0.30000000000000004,
            "bin_start": 0.20000000000000007,
            "count": 0
           },
           {
            "bin_end": 0.4,
            "bin_start": 0.30000000000000004,
            "count": 0
           },
           {
            "bin_end": 0.5,
            "bin_start": 0.4,
            "count": 0
           }
          ],
          "max": "0",
          "min": "0",
          "nan_count": 0,
          "unique_count": 1
         }
        },
        {
         "dtype": "int64",
         "name": "PoolArea",
         "stats": {
          "histogram": [
           {
            "bin_end": -0.4,
            "bin_start": -0.5,
            "count": 0
           },
           {
            "bin_end": -0.3,
            "bin_start": -0.4,
            "count": 0
           },
           {
            "bin_end": -0.19999999999999996,
            "bin_start": -0.3,
            "count": 0
           },
           {
            "bin_end": -0.09999999999999998,
            "bin_start": -0.19999999999999996,
            "count": 0
           },
           {
            "bin_end": 0,
            "bin_start": -0.09999999999999998,
            "count": 0
           },
           {
            "bin_end": 0.10000000000000009,
            "bin_start": 0,
            "count": 10
           },
           {
            "bin_end": 0.20000000000000007,
            "bin_start": 0.10000000000000009,
            "count": 0
           },
           {
            "bin_end": 0.30000000000000004,
            "bin_start": 0.20000000000000007,
            "count": 0
           },
           {
            "bin_end": 0.4,
            "bin_start": 0.30000000000000004,
            "count": 0
           },
           {
            "bin_end": 0.5,
            "bin_start": 0.4,
            "count": 0
           }
          ],
          "max": "0",
          "min": "0",
          "nan_count": 0,
          "unique_count": 1
         }
        },
        {
         "dtype": "object",
         "name": "PoolQC",
         "stats": {
          "categories": [
           {
            "count": 10,
            "name": "Missing"
           }
          ],
          "nan_count": 10,
          "unique_count": 0
         }
        },
        {
         "dtype": "object",
         "name": "Fence",
         "stats": {
          "categories": [
           {
            "count": 1,
            "name": "MnPrv"
           },
           {
            "count": 9,
            "name": "Missing"
           }
          ],
          "nan_count": 9,
          "unique_count": 1
         }
        },
        {
         "dtype": "object",
         "name": "MiscFeature",
         "stats": {
          "categories": [
           {
            "count": 2,
            "name": "Shed"
           },
           {
            "count": 8,
            "name": "Missing"
           }
          ],
          "nan_count": 8,
          "unique_count": 1
         }
        },
        {
         "dtype": "int64",
         "name": "MiscVal",
         "stats": {
          "histogram": [
           {
            "bin_end": 70,
            "bin_start": 0,
            "count": 8
           },
           {
            "bin_end": 140,
            "bin_start": 70,
            "count": 0
           },
           {
            "bin_end": 210,
            "bin_start": 140,
            "count": 0
           },
           {
            "bin_end": 280,
            "bin_start": 210,
            "count": 0
           },
           {
            "bin_end": 350,
            "bin_start": 280,
            "count": 0
           },
           {
            "bin_end": 420,
            "bin_start": 350,
            "count": 1
           },
           {
            "bin_end": 490,
            "bin_start": 420,
            "count": 0
           },
           {
            "bin_end": 560,
            "bin_start": 490,
            "count": 0
           },
           {
            "bin_end": 630,
            "bin_start": 560,
            "count": 0
           },
           {
            "bin_end": 700,
            "bin_start": 630,
            "count": 1
           }
          ],
          "max": "700",
          "min": "0",
          "nan_count": 0,
          "unique_count": 3
         }
        },
        {
         "dtype": "int64",
         "name": "MoSold",
         "stats": {
          "histogram": [
           {
            "bin_end": 2.1,
            "bin_start": 1,
            "count": 3
           },
           {
            "bin_end": 3.2,
            "bin_start": 2.1,
            "count": 0
           },
           {
            "bin_end": 4.300000000000001,
            "bin_start": 3.2,
            "count": 1
           },
           {
            "bin_end": 5.4,
            "bin_start": 4.300000000000001,
            "count": 1
           },
           {
            "bin_end": 6.5,
            "bin_start": 5.4,
            "count": 0
           },
           {
            "bin_end": 7.6000000000000005,
            "bin_start": 6.5,
            "count": 0
           },
           {
            "bin_end": 8.700000000000001,
            "bin_start": 7.6000000000000005,
            "count": 1
           },
           {
            "bin_end": 9.8,
            "bin_start": 8.700000000000001,
            "count": 1
           },
           {
            "bin_end": 10.9,
            "bin_start": 9.8,
            "count": 1
           },
           {
            "bin_end": 12,
            "bin_start": 10.9,
            "count": 2
           }
          ],
          "max": "12",
          "min": "1",
          "nan_count": 0,
          "unique_count": 9
         }
        },
        {
         "dtype": "int64",
         "name": "YrSold",
         "stats": {
          "histogram": [
           {
            "bin_end": 2006.3,
            "bin_start": 2006,
            "count": 1
           },
           {
            "bin_end": 2006.6,
            "bin_start": 2006.3,
            "count": 0
           },
           {
            "bin_end": 2006.9,
            "bin_start": 2006.6,
            "count": 0
           },
           {
            "bin_end": 2007.2,
            "bin_start": 2006.9,
            "count": 2
           },
           {
            "bin_end": 2007.5,
            "bin_start": 2007.2,
            "count": 0
           },
           {
            "bin_end": 2007.8,
            "bin_start": 2007.5,
            "count": 0
           },
           {
            "bin_end": 2008.1,
            "bin_start": 2007.8,
            "count": 5
           },
           {
            "bin_end": 2008.4,
            "bin_start": 2008.1,
            "count": 0
           },
           {
            "bin_end": 2008.7,
            "bin_start": 2008.4,
            "count": 0
           },
           {
            "bin_end": 2009,
            "bin_start": 2008.7,
            "count": 2
           }
          ],
          "max": "2009",
          "min": "2006",
          "nan_count": 0,
          "unique_count": 4
         }
        },
        {
         "dtype": "object",
         "name": "SaleType",
         "stats": {
          "categories": [
           {
            "count": 10,
            "name": "WD"
           }
          ],
          "nan_count": 0,
          "unique_count": 1
         }
        },
        {
         "dtype": "object",
         "name": "SaleCondition",
         "stats": {
          "categories": [
           {
            "count": 8,
            "name": "Normal"
           },
           {
            "count": 2,
            "name": "Abnorml"
           }
          ],
          "nan_count": 0,
          "unique_count": 2
         }
        },
        {
         "dtype": "int64",
         "name": "SalePrice",
         "stats": {
          "histogram": [
           {
            "bin_end": 136900,
            "bin_start": 118000,
            "count": 2
           },
           {
            "bin_end": 155800,
            "bin_start": 136900,
            "count": 2
           },
           {
            "bin_end": 174700,
            "bin_start": 155800,
            "count": 0
           },
           {
            "bin_end": 193600,
            "bin_start": 174700,
            "count": 1
           },
           {
            "bin_end": 212500,
            "bin_start": 193600,
            "count": 2
           },
           {
            "bin_end": 231400,
            "bin_start": 212500,
            "count": 1
           },
           {
            "bin_end": 250300,
            "bin_start": 231400,
            "count": 1
           },
           {
            "bin_end": 269200,
            "bin_start": 250300,
            "count": 0
           },
           {
            "bin_end": 288100,
            "bin_start": 269200,
            "count": 0
           },
           {
            "bin_end": 307000,
            "bin_start": 288100,
            "count": 1
           }
          ],
          "max": "307000",
          "min": "118000",
          "nan_count": 0,
          "unique_count": 10
         }
        },
        {
         "dtype": "int64",
         "name": "_deepnote_index_column"
        }
       ],
       "row_count": 10,
       "rows": [
        {
         "1stFlrSF": 856,
         "2ndFlrSF": 854,
         "3SsnPorch": 0,
         "Alley": "nan",
         "BedroomAbvGr": 3,
         "BldgType": "1Fam",
         "BsmtCond": "TA",
         "BsmtExposure": "No",
         "BsmtFinSF1": 706,
         "BsmtFinSF2": 0,
         "BsmtFinType1": "GLQ",
         "BsmtFinType2": "Unf",
         "BsmtFullBath": 1,
         "BsmtHalfBath": 0,
         "BsmtQual": "Gd",
         "BsmtUnfSF": 150,
         "CentralAir": "Y",
         "Condition1": "Norm",
         "Condition2": "Norm",
         "Electrical": "SBrkr",
         "EnclosedPorch": 0,
         "ExterCond": "TA",
         "ExterQual": "Gd",
         "Exterior1st": "VinylSd",
         "Exterior2nd": "VinylSd",
         "Fence": "nan",
         "FireplaceQu": "nan",
         "Fireplaces": 0,
         "Foundation": "PConc",
         "FullBath": 2,
         "Functional": "Typ",
         "GarageArea": 548,
         "GarageCars": 2,
         "GarageCond": "TA",
         "GarageFinish": "RFn",
         "GarageQual": "TA",
         "GarageType": "Attchd",
         "GarageYrBlt": 2003,
         "GrLivArea": 1710,
         "HalfBath": 1,
         "Heating": "GasA",
         "HeatingQC": "Ex",
         "HouseStyle": "2Story",
         "Id": 1,
         "KitchenAbvGr": 1,
         "KitchenQual": "Gd",
         "LandContour": "Lvl",
         "LandSlope": "Gtl",
         "LotArea": 8450,
         "LotConfig": "Inside",
         "LotFrontage": 65,
         "LotShape": "Reg",
         "LowQualFinSF": 0,
         "MSSubClass": 60,
         "MSZoning": "RL",
         "MasVnrArea": 196,
         "MasVnrType": "BrkFace",
         "MiscFeature": "nan",
         "MiscVal": 0,
         "MoSold": 2,
         "Neighborhood": "CollgCr",
         "OpenPorchSF": 61,
         "OverallCond": 5,
         "OverallQual": 7,
         "PavedDrive": "Y",
         "PoolArea": 0,
         "PoolQC": "nan",
         "RoofMatl": "CompShg",
         "RoofStyle": "Gable",
         "SaleCondition": "Normal",
         "SalePrice": 208500,
         "SaleType": "WD",
         "ScreenPorch": 0,
         "Street": "Pave",
         "TotRmsAbvGrd": 8,
         "TotalBsmtSF": 856,
         "Utilities": "AllPub",
         "WoodDeckSF": 0,
         "YearBuilt": 2003,
         "YearRemodAdd": 2003,
         "YrSold": 2008,
         "_deepnote_index_column": 0
        },
        {
         "1stFlrSF": 1262,
         "2ndFlrSF": 0,
         "3SsnPorch": 0,
         "Alley": "nan",
         "BedroomAbvGr": 3,
         "BldgType": "1Fam",
         "BsmtCond": "TA",
         "BsmtExposure": "Gd",
         "BsmtFinSF1": 978,
         "BsmtFinSF2": 0,
         "BsmtFinType1": "ALQ",
         "BsmtFinType2": "Unf",
         "BsmtFullBath": 0,
         "BsmtHalfBath": 1,
         "BsmtQual": "Gd",
         "BsmtUnfSF": 284,
         "CentralAir": "Y",
         "Condition1": "Feedr",
         "Condition2": "Norm",
         "Electrical": "SBrkr",
         "EnclosedPorch": 0,
         "ExterCond": "TA",
         "ExterQual": "TA",
         "Exterior1st": "MetalSd",
         "Exterior2nd": "MetalSd",
         "Fence": "nan",
         "FireplaceQu": "TA",
         "Fireplaces": 1,
         "Foundation": "CBlock",
         "FullBath": 2,
         "Functional": "Typ",
         "GarageArea": 460,
         "GarageCars": 2,
         "GarageCond": "TA",
         "GarageFinish": "RFn",
         "GarageQual": "TA",
         "GarageType": "Attchd",
         "GarageYrBlt": 1976,
         "GrLivArea": 1262,
         "HalfBath": 0,
         "Heating": "GasA",
         "HeatingQC": "Ex",
         "HouseStyle": "1Story",
         "Id": 2,
         "KitchenAbvGr": 1,
         "KitchenQual": "TA",
         "LandContour": "Lvl",
         "LandSlope": "Gtl",
         "LotArea": 9600,
         "LotConfig": "FR2",
         "LotFrontage": 80,
         "LotShape": "Reg",
         "LowQualFinSF": 0,
         "MSSubClass": 20,
         "MSZoning": "RL",
         "MasVnrArea": 0,
         "MasVnrType": "None",
         "MiscFeature": "nan",
         "MiscVal": 0,
         "MoSold": 5,
         "Neighborhood": "Veenker",
         "OpenPorchSF": 0,
         "OverallCond": 8,
         "OverallQual": 6,
         "PavedDrive": "Y",
         "PoolArea": 0,
         "PoolQC": "nan",
         "RoofMatl": "CompShg",
         "RoofStyle": "Gable",
         "SaleCondition": "Normal",
         "SalePrice": 181500,
         "SaleType": "WD",
         "ScreenPorch": 0,
         "Street": "Pave",
         "TotRmsAbvGrd": 6,
         "TotalBsmtSF": 1262,
         "Utilities": "AllPub",
         "WoodDeckSF": 298,
         "YearBuilt": 1976,
         "YearRemodAdd": 1976,
         "YrSold": 2007,
         "_deepnote_index_column": 1
        },
        {
         "1stFlrSF": 920,
         "2ndFlrSF": 866,
         "3SsnPorch": 0,
         "Alley": "nan",
         "BedroomAbvGr": 3,
         "BldgType": "1Fam",
         "BsmtCond": "TA",
         "BsmtExposure": "Mn",
         "BsmtFinSF1": 486,
         "BsmtFinSF2": 0,
         "BsmtFinType1": "GLQ",
         "BsmtFinType2": "Unf",
         "BsmtFullBath": 1,
         "BsmtHalfBath": 0,
         "BsmtQual": "Gd",
         "BsmtUnfSF": 434,
         "CentralAir": "Y",
         "Condition1": "Norm",
         "Condition2": "Norm",
         "Electrical": "SBrkr",
         "EnclosedPorch": 0,
         "ExterCond": "TA",
         "ExterQual": "Gd",
         "Exterior1st": "VinylSd",
         "Exterior2nd": "VinylSd",
         "Fence": "nan",
         "FireplaceQu": "TA",
         "Fireplaces": 1,
         "Foundation": "PConc",
         "FullBath": 2,
         "Functional": "Typ",
         "GarageArea": 608,
         "GarageCars": 2,
         "GarageCond": "TA",
         "GarageFinish": "RFn",
         "GarageQual": "TA",
         "GarageType": "Attchd",
         "GarageYrBlt": 2001,
         "GrLivArea": 1786,
         "HalfBath": 1,
         "Heating": "GasA",
         "HeatingQC": "Ex",
         "HouseStyle": "2Story",
         "Id": 3,
         "KitchenAbvGr": 1,
         "KitchenQual": "Gd",
         "LandContour": "Lvl",
         "LandSlope": "Gtl",
         "LotArea": 11250,
         "LotConfig": "Inside",
         "LotFrontage": 68,
         "LotShape": "IR1",
         "LowQualFinSF": 0,
         "MSSubClass": 60,
         "MSZoning": "RL",
         "MasVnrArea": 162,
         "MasVnrType": "BrkFace",
         "MiscFeature": "nan",
         "MiscVal": 0,
         "MoSold": 9,
         "Neighborhood": "CollgCr",
         "OpenPorchSF": 42,
         "OverallCond": 5,
         "OverallQual": 7,
         "PavedDrive": "Y",
         "PoolArea": 0,
         "PoolQC": "nan",
         "RoofMatl": "CompShg",
         "RoofStyle": "Gable",
         "SaleCondition": "Normal",
         "SalePrice": 223500,
         "SaleType": "WD",
         "ScreenPorch": 0,
         "Street": "Pave",
         "TotRmsAbvGrd": 6,
         "TotalBsmtSF": 920,
         "Utilities": "AllPub",
         "WoodDeckSF": 0,
         "YearBuilt": 2001,
         "YearRemodAdd": 2002,
         "YrSold": 2008,
         "_deepnote_index_column": 2
        },
        {
         "1stFlrSF": 961,
         "2ndFlrSF": 756,
         "3SsnPorch": 0,
         "Alley": "nan",
         "BedroomAbvGr": 3,
         "BldgType": "1Fam",
         "BsmtCond": "Gd",
         "BsmtExposure": "No",
         "BsmtFinSF1": 216,
         "BsmtFinSF2": 0,
         "BsmtFinType1": "ALQ",
         "BsmtFinType2": "Unf",
         "BsmtFullBath": 1,
         "BsmtHalfBath": 0,
         "BsmtQual": "TA",
         "BsmtUnfSF": 540,
         "CentralAir": "Y",
         "Condition1": "Norm",
         "Condition2": "Norm",
         "Electrical": "SBrkr",
         "EnclosedPorch": 272,
         "ExterCond": "TA",
         "ExterQual": "TA",
         "Exterior1st": "Wd Sdng",
         "Exterior2nd": "Wd Shng",
         "Fence": "nan",
         "FireplaceQu": "Gd",
         "Fireplaces": 1,
         "Foundation": "BrkTil",
         "FullBath": 1,
         "Functional": "Typ",
         "GarageArea": 642,
         "GarageCars": 3,
         "GarageCond": "TA",
         "GarageFinish": "Unf",
         "GarageQual": "TA",
         "GarageType": "Detchd",
         "GarageYrBlt": 1998,
         "GrLivArea": 1717,
         "HalfBath": 0,
         "Heating": "GasA",
         "HeatingQC": "Gd",
         "HouseStyle": "2Story",
         "Id": 4,
         "KitchenAbvGr": 1,
         "KitchenQual": "Gd",
         "LandContour": "Lvl",
         "LandSlope": "Gtl",
         "LotArea": 9550,
         "LotConfig": "Corner",
         "LotFrontage": 60,
         "LotShape": "IR1",
         "LowQualFinSF": 0,
         "MSSubClass": 70,
         "MSZoning": "RL",
         "MasVnrArea": 0,
         "MasVnrType": "None",
         "MiscFeature": "nan",
         "MiscVal": 0,
         "MoSold": 2,
         "Neighborhood": "Crawfor",
         "OpenPorchSF": 35,
         "OverallCond": 5,
         "OverallQual": 7,
         "PavedDrive": "Y",
         "PoolArea": 0,
         "PoolQC": "nan",
         "RoofMatl": "CompShg",
         "RoofStyle": "Gable",
         "SaleCondition": "Abnorml",
         "SalePrice": 140000,
         "SaleType": "WD",
         "ScreenPorch": 0,
         "Street": "Pave",
         "TotRmsAbvGrd": 7,
         "TotalBsmtSF": 756,
         "Utilities": "AllPub",
         "WoodDeckSF": 0,
         "YearBuilt": 1915,
         "YearRemodAdd": 1970,
         "YrSold": 2006,
         "_deepnote_index_column": 3
        },
        {
         "1stFlrSF": 1145,
         "2ndFlrSF": 1053,
         "3SsnPorch": 0,
         "Alley": "nan",
         "BedroomAbvGr": 4,
         "BldgType": "1Fam",
         "BsmtCond": "TA",
         "BsmtExposure": "Av",
         "BsmtFinSF1": 655,
         "BsmtFinSF2": 0,
         "BsmtFinType1": "GLQ",
         "BsmtFinType2": "Unf",
         "BsmtFullBath": 1,
         "BsmtHalfBath": 0,
         "BsmtQual": "Gd",
         "BsmtUnfSF": 490,
         "CentralAir": "Y",
         "Condition1": "Norm",
         "Condition2": "Norm",
         "Electrical": "SBrkr",
         "EnclosedPorch": 0,
         "ExterCond": "TA",
         "ExterQual": "Gd",
         "Exterior1st": "VinylSd",
         "Exterior2nd": "VinylSd",
         "Fence": "nan",
         "FireplaceQu": "TA",
         "Fireplaces": 1,
         "Foundation": "PConc",
         "FullBath": 2,
         "Functional": "Typ",
         "GarageArea": 836,
         "GarageCars": 3,
         "GarageCond": "TA",
         "GarageFinish": "RFn",
         "GarageQual": "TA",
         "GarageType": "Attchd",
         "GarageYrBlt": 2000,
         "GrLivArea": 2198,
         "HalfBath": 1,
         "Heating": "GasA",
         "HeatingQC": "Ex",
         "HouseStyle": "2Story",
         "Id": 5,
         "KitchenAbvGr": 1,
         "KitchenQual": "Gd",
         "LandContour": "Lvl",
         "LandSlope": "Gtl",
         "LotArea": 14260,
         "LotConfig": "FR2",
         "LotFrontage": 84,
         "LotShape": "IR1",
         "LowQualFinSF": 0,
         "MSSubClass": 60,
         "MSZoning": "RL",
         "MasVnrArea": 350,
         "MasVnrType": "BrkFace",
         "MiscFeature": "nan",
         "MiscVal": 0,
         "MoSold": 12,
         "Neighborhood": "NoRidge",
         "OpenPorchSF": 84,
         "OverallCond": 5,
         "OverallQual": 8,
         "PavedDrive": "Y",
         "PoolArea": 0,
         "PoolQC": "nan",
         "RoofMatl": "CompShg",
         "RoofStyle": "Gable",
         "SaleCondition": "Normal",
         "SalePrice": 250000,
         "SaleType": "WD",
         "ScreenPorch": 0,
         "Street": "Pave",
         "TotRmsAbvGrd": 9,
         "TotalBsmtSF": 1145,
         "Utilities": "AllPub",
         "WoodDeckSF": 192,
         "YearBuilt": 2000,
         "YearRemodAdd": 2000,
         "YrSold": 2008,
         "_deepnote_index_column": 4
        },
        {
         "1stFlrSF": 796,
         "2ndFlrSF": 566,
         "3SsnPorch": 320,
         "Alley": "nan",
         "BedroomAbvGr": 1,
         "BldgType": "1Fam",
         "BsmtCond": "TA",
         "BsmtExposure": "No",
         "BsmtFinSF1": 732,
         "BsmtFinSF2": 0,
         "BsmtFinType1": "GLQ",
         "BsmtFinType2": "Unf",
         "BsmtFullBath": 1,
         "BsmtHalfBath": 0,
         "BsmtQual": "Gd",
         "BsmtUnfSF": 64,
         "CentralAir": "Y",
         "Condition1": "Norm",
         "Condition2": "Norm",
         "Electrical": "SBrkr",
         "EnclosedPorch": 0,
         "ExterCond": "TA",
         "ExterQual": "TA",
         "Exterior1st": "VinylSd",
         "Exterior2nd": "VinylSd",
         "Fence": "MnPrv",
         "FireplaceQu": "nan",
         "Fireplaces": 0,
         "Foundation": "Wood",
         "FullBath": 1,
         "Functional": "Typ",
         "GarageArea": 480,
         "GarageCars": 2,
         "GarageCond": "TA",
         "GarageFinish": "Unf",
         "GarageQual": "TA",
         "GarageType": "Attchd",
         "GarageYrBlt": 1993,
         "GrLivArea": 1362,
         "HalfBath": 1,
         "Heating": "GasA",
         "HeatingQC": "Ex",
         "HouseStyle": "1.5Fin",
         "Id": 6,
         "KitchenAbvGr": 1,
         "KitchenQual": "TA",
         "LandContour": "Lvl",
         "LandSlope": "Gtl",
         "LotArea": 14115,
         "LotConfig": "Inside",
         "LotFrontage": 85,
         "LotShape": "IR1",
         "LowQualFinSF": 0,
         "MSSubClass": 50,
         "MSZoning": "RL",
         "MasVnrArea": 0,
         "MasVnrType": "None",
         "MiscFeature": "Shed",
         "MiscVal": 700,
         "MoSold": 10,
         "Neighborhood": "Mitchel",
         "OpenPorchSF": 30,
         "OverallCond": 5,
         "OverallQual": 5,
         "PavedDrive": "Y",
         "PoolArea": 0,
         "PoolQC": "nan",
         "RoofMatl": "CompShg",
         "RoofStyle": "Gable",
         "SaleCondition": "Normal",
         "SalePrice": 143000,
         "SaleType": "WD",
         "ScreenPorch": 0,
         "Street": "Pave",
         "TotRmsAbvGrd": 5,
         "TotalBsmtSF": 796,
         "Utilities": "AllPub",
         "WoodDeckSF": 40,
         "YearBuilt": 1993,
         "YearRemodAdd": 1995,
         "YrSold": 2009,
         "_deepnote_index_column": 5
        },
        {
         "1stFlrSF": 1694,
         "2ndFlrSF": 0,
         "3SsnPorch": 0,
         "Alley": "nan",
         "BedroomAbvGr": 3,
         "BldgType": "1Fam",
         "BsmtCond": "TA",
         "BsmtExposure": "Av",
         "BsmtFinSF1": 1369,
         "BsmtFinSF2": 0,
         "BsmtFinType1": "GLQ",
         "BsmtFinType2": "Unf",
         "BsmtFullBath": 1,
         "BsmtHalfBath": 0,
         "BsmtQual": "Ex",
         "BsmtUnfSF": 317,
         "CentralAir": "Y",
         "Condition1": "Norm",
         "Condition2": "Norm",
         "Electrical": "SBrkr",
         "EnclosedPorch": 0,
         "ExterCond": "TA",
         "ExterQual": "Gd",
         "Exterior1st": "VinylSd",
         "Exterior2nd": "VinylSd",
         "Fence": "nan",
         "FireplaceQu": "Gd",
         "Fireplaces": 1,
         "Foundation": "PConc",
         "FullBath": 2,
         "Functional": "Typ",
         "GarageArea": 636,
         "GarageCars": 2,
         "GarageCond": "TA",
         "GarageFinish": "RFn",
         "GarageQual": "TA",
         "GarageType": "Attchd",
         "GarageYrBlt": 2004,
         "GrLivArea": 1694,
         "HalfBath": 0,
         "Heating": "GasA",
         "HeatingQC": "Ex",
         "HouseStyle": "1Story",
         "Id": 7,
         "KitchenAbvGr": 1,
         "KitchenQual": "Gd",
         "LandContour": "Lvl",
         "LandSlope": "Gtl",
         "LotArea": 10084,
         "LotConfig": "Inside",
         "LotFrontage": 75,
         "LotShape": "Reg",
         "LowQualFinSF": 0,
         "MSSubClass": 20,
         "MSZoning": "RL",
         "MasVnrArea": 186,
         "MasVnrType": "Stone",
         "MiscFeature": "nan",
         "MiscVal": 0,
         "MoSold": 8,
         "Neighborhood": "Somerst",
         "OpenPorchSF": 57,
         "OverallCond": 5,
         "OverallQual": 8,
         "PavedDrive": "Y",
         "PoolArea": 0,
         "PoolQC": "nan",
         "RoofMatl": "CompShg",
         "RoofStyle": "Gable",
         "SaleCondition": "Normal",
         "SalePrice": 307000,
         "SaleType": "WD",
         "ScreenPorch": 0,
         "Street": "Pave",
         "TotRmsAbvGrd": 7,
         "TotalBsmtSF": 1686,
         "Utilities": "AllPub",
         "WoodDeckSF": 255,
         "YearBuilt": 2004,
         "YearRemodAdd": 2005,
         "YrSold": 2007,
         "_deepnote_index_column": 6
        },
        {
         "1stFlrSF": 1107,
         "2ndFlrSF": 983,
         "3SsnPorch": 0,
         "Alley": "nan",
         "BedroomAbvGr": 3,
         "BldgType": "1Fam",
         "BsmtCond": "TA",
         "BsmtExposure": "Mn",
         "BsmtFinSF1": 859,
         "BsmtFinSF2": 32,
         "BsmtFinType1": "ALQ",
         "BsmtFinType2": "BLQ",
         "BsmtFullBath": 1,
         "BsmtHalfBath": 0,
         "BsmtQual": "Gd",
         "BsmtUnfSF": 216,
         "CentralAir": "Y",
         "Condition1": "PosN",
         "Condition2": "Norm",
         "Electrical": "SBrkr",
         "EnclosedPorch": 228,
         "ExterCond": "TA",
         "ExterQual": "TA",
         "Exterior1st": "HdBoard",
         "Exterior2nd": "HdBoard",
         "Fence": "nan",
         "FireplaceQu": "TA",
         "Fireplaces": 2,
         "Foundation": "CBlock",
         "FullBath": 2,
         "Functional": "Typ",
         "GarageArea": 484,
         "GarageCars": 2,
         "GarageCond": "TA",
         "GarageFinish": "RFn",
         "GarageQual": "TA",
         "GarageType": "Attchd",
         "GarageYrBlt": 1973,
         "GrLivArea": 2090,
         "HalfBath": 1,
         "Heating": "GasA",
         "HeatingQC": "Ex",
         "HouseStyle": "2Story",
         "Id": 8,
         "KitchenAbvGr": 1,
         "KitchenQual": "TA",
         "LandContour": "Lvl",
         "LandSlope": "Gtl",
         "LotArea": 10382,
         "LotConfig": "Corner",
         "LotFrontage": "nan",
         "LotShape": "IR1",
         "LowQualFinSF": 0,
         "MSSubClass": 60,
         "MSZoning": "RL",
         "MasVnrArea": 240,
         "MasVnrType": "Stone",
         "MiscFeature": "Shed",
         "MiscVal": 350,
         "MoSold": 11,
         "Neighborhood": "NWAmes",
         "OpenPorchSF": 204,
         "OverallCond": 6,
         "OverallQual": 7,
         "PavedDrive": "Y",
         "PoolArea": 0,
         "PoolQC": "nan",
         "RoofMatl": "CompShg",
         "RoofStyle": "Gable",
         "SaleCondition": "Normal",
         "SalePrice": 200000,
         "SaleType": "WD",
         "ScreenPorch": 0,
         "Street": "Pave",
         "TotRmsAbvGrd": 7,
         "TotalBsmtSF": 1107,
         "Utilities": "AllPub",
         "WoodDeckSF": 235,
         "YearBuilt": 1973,
         "YearRemodAdd": 1973,
         "YrSold": 2009,
         "_deepnote_index_column": 7
        },
        {
         "1stFlrSF": 1022,
         "2ndFlrSF": 752,
         "3SsnPorch": 0,
         "Alley": "nan",
         "BedroomAbvGr": 2,
         "BldgType": "1Fam",
         "BsmtCond": "TA",
         "BsmtExposure": "No",
         "BsmtFinSF1": 0,
         "BsmtFinSF2": 0,
         "BsmtFinType1": "Unf",
         "BsmtFinType2": "Unf",
         "BsmtFullBath": 0,
         "BsmtHalfBath": 0,
         "BsmtQual": "TA",
         "BsmtUnfSF": 952,
         "CentralAir": "Y",
         "Condition1": "Artery",
         "Condition2": "Norm",
         "Electrical": "FuseF",
         "EnclosedPorch": 205,
         "ExterCond": "TA",
         "ExterQual": "TA",
         "Exterior1st": "BrkFace",
         "Exterior2nd": "Wd Shng",
         "Fence": "nan",
         "FireplaceQu": "TA",
         "Fireplaces": 2,
         "Foundation": "BrkTil",
         "FullBath": 2,
         "Functional": "Min1",
         "GarageArea": 468,
         "GarageCars": 2,
         "GarageCond": "TA",
         "GarageFinish": "Unf",
         "GarageQual": "Fa",
         "GarageType": "Detchd",
         "GarageYrBlt": 1931,
         "GrLivArea": 1774,
         "HalfBath": 0,
         "Heating": "GasA",
         "HeatingQC": "Gd",
         "HouseStyle": "1.5Fin",
         "Id": 9,
         "KitchenAbvGr": 2,
         "KitchenQual": "TA",
         "LandContour": "Lvl",
         "LandSlope": "Gtl",
         "LotArea": 6120,
         "LotConfig": "Inside",
         "LotFrontage": 51,
         "LotShape": "Reg",
         "LowQualFinSF": 0,
         "MSSubClass": 50,
         "MSZoning": "RM",
         "MasVnrArea": 0,
         "MasVnrType": "None",
         "MiscFeature": "nan",
         "MiscVal": 0,
         "MoSold": 4,
         "Neighborhood": "OldTown",
         "OpenPorchSF": 0,
         "OverallCond": 5,
         "OverallQual": 7,
         "PavedDrive": "Y",
         "PoolArea": 0,
         "PoolQC": "nan",
         "RoofMatl": "CompShg",
         "RoofStyle": "Gable",
         "SaleCondition": "Abnorml",
         "SalePrice": 129900,
         "SaleType": "WD",
         "ScreenPorch": 0,
         "Street": "Pave",
         "TotRmsAbvGrd": 8,
         "TotalBsmtSF": 952,
         "Utilities": "AllPub",
         "WoodDeckSF": 90,
         "YearBuilt": 1931,
         "YearRemodAdd": 1950,
         "YrSold": 2008,
         "_deepnote_index_column": 8
        },
        {
         "1stFlrSF": 1077,
         "2ndFlrSF": 0,
         "3SsnPorch": 0,
         "Alley": "nan",
         "BedroomAbvGr": 2,
         "BldgType": "2fmCon",
         "BsmtCond": "TA",
         "BsmtExposure": "No",
         "BsmtFinSF1": 851,
         "BsmtFinSF2": 0,
         "BsmtFinType1": "GLQ",
         "BsmtFinType2": "Unf",
         "BsmtFullBath": 1,
         "BsmtHalfBath": 0,
         "BsmtQual": "TA",
         "BsmtUnfSF": 140,
         "CentralAir": "Y",
         "Condition1": "Artery",
         "Condition2": "Artery",
         "Electrical": "SBrkr",
         "EnclosedPorch": 0,
         "ExterCond": "TA",
         "ExterQual": "TA",
         "Exterior1st": "MetalSd",
         "Exterior2nd": "MetalSd",
         "Fence": "nan",
         "FireplaceQu": "TA",
         "Fireplaces": 2,
         "Foundation": "BrkTil",
         "FullBath": 1,
         "Functional": "Typ",
         "GarageArea": 205,
         "GarageCars": 1,
         "GarageCond": "TA",
         "GarageFinish": "RFn",
         "GarageQual": "Gd",
         "GarageType": "Attchd",
         "GarageYrBlt": 1939,
         "GrLivArea": 1077,
         "HalfBath": 0,
         "Heating": "GasA",
         "HeatingQC": "Ex",
         "HouseStyle": "1.5Unf",
         "Id": 10,
         "KitchenAbvGr": 2,
         "KitchenQual": "TA",
         "LandContour": "Lvl",
         "LandSlope": "Gtl",
         "LotArea": 7420,
         "LotConfig": "Corner",
         "LotFrontage": 50,
         "LotShape": "Reg",
         "LowQualFinSF": 0,
         "MSSubClass": 190,
         "MSZoning": "RL",
         "MasVnrArea": 0,
         "MasVnrType": "None",
         "MiscFeature": "nan",
         "MiscVal": 0,
         "MoSold": 1,
         "Neighborhood": "BrkSide",
         "OpenPorchSF": 4,
         "OverallCond": 6,
         "OverallQual": 5,
         "PavedDrive": "Y",
         "PoolArea": 0,
         "PoolQC": "nan",
         "RoofMatl": "CompShg",
         "RoofStyle": "Gable",
         "SaleCondition": "Normal",
         "SalePrice": 118000,
         "SaleType": "WD",
         "ScreenPorch": 0,
         "Street": "Pave",
         "TotRmsAbvGrd": 5,
         "TotalBsmtSF": 991,
         "Utilities": "AllPub",
         "WoodDeckSF": 0,
         "YearBuilt": 1939,
         "YearRemodAdd": 1950,
         "YrSold": 2008,
         "_deepnote_index_column": 9
        }
       ]
      },
      "text/html": [
       "<div>\n",
       "<style scoped>\n",
       "    .dataframe tbody tr th:only-of-type {\n",
       "        vertical-align: middle;\n",
       "    }\n",
       "\n",
       "    .dataframe tbody tr th {\n",
       "        vertical-align: top;\n",
       "    }\n",
       "\n",
       "    .dataframe thead th {\n",
       "        text-align: right;\n",
       "    }\n",
       "</style>\n",
       "<table border=\"1\" class=\"dataframe\">\n",
       "  <thead>\n",
       "    <tr style=\"text-align: right;\">\n",
       "      <th></th>\n",
       "      <th>Id</th>\n",
       "      <th>MSSubClass</th>\n",
       "      <th>MSZoning</th>\n",
       "      <th>LotFrontage</th>\n",
       "      <th>LotArea</th>\n",
       "      <th>Street</th>\n",
       "      <th>Alley</th>\n",
       "      <th>LotShape</th>\n",
       "      <th>LandContour</th>\n",
       "      <th>Utilities</th>\n",
       "      <th>...</th>\n",
       "      <th>PoolArea</th>\n",
       "      <th>PoolQC</th>\n",
       "      <th>Fence</th>\n",
       "      <th>MiscFeature</th>\n",
       "      <th>MiscVal</th>\n",
       "      <th>MoSold</th>\n",
       "      <th>YrSold</th>\n",
       "      <th>SaleType</th>\n",
       "      <th>SaleCondition</th>\n",
       "      <th>SalePrice</th>\n",
       "    </tr>\n",
       "  </thead>\n",
       "  <tbody>\n",
       "    <tr>\n",
       "      <th>0</th>\n",
       "      <td>1</td>\n",
       "      <td>60</td>\n",
       "      <td>RL</td>\n",
       "      <td>65.0</td>\n",
       "      <td>8450</td>\n",
       "      <td>Pave</td>\n",
       "      <td>NaN</td>\n",
       "      <td>Reg</td>\n",
       "      <td>Lvl</td>\n",
       "      <td>AllPub</td>\n",
       "      <td>...</td>\n",
       "      <td>0</td>\n",
       "      <td>NaN</td>\n",
       "      <td>NaN</td>\n",
       "      <td>NaN</td>\n",
       "      <td>0</td>\n",
       "      <td>2</td>\n",
       "      <td>2008</td>\n",
       "      <td>WD</td>\n",
       "      <td>Normal</td>\n",
       "      <td>208500</td>\n",
       "    </tr>\n",
       "    <tr>\n",
       "      <th>1</th>\n",
       "      <td>2</td>\n",
       "      <td>20</td>\n",
       "      <td>RL</td>\n",
       "      <td>80.0</td>\n",
       "      <td>9600</td>\n",
       "      <td>Pave</td>\n",
       "      <td>NaN</td>\n",
       "      <td>Reg</td>\n",
       "      <td>Lvl</td>\n",
       "      <td>AllPub</td>\n",
       "      <td>...</td>\n",
       "      <td>0</td>\n",
       "      <td>NaN</td>\n",
       "      <td>NaN</td>\n",
       "      <td>NaN</td>\n",
       "      <td>0</td>\n",
       "      <td>5</td>\n",
       "      <td>2007</td>\n",
       "      <td>WD</td>\n",
       "      <td>Normal</td>\n",
       "      <td>181500</td>\n",
       "    </tr>\n",
       "    <tr>\n",
       "      <th>2</th>\n",
       "      <td>3</td>\n",
       "      <td>60</td>\n",
       "      <td>RL</td>\n",
       "      <td>68.0</td>\n",
       "      <td>11250</td>\n",
       "      <td>Pave</td>\n",
       "      <td>NaN</td>\n",
       "      <td>IR1</td>\n",
       "      <td>Lvl</td>\n",
       "      <td>AllPub</td>\n",
       "      <td>...</td>\n",
       "      <td>0</td>\n",
       "      <td>NaN</td>\n",
       "      <td>NaN</td>\n",
       "      <td>NaN</td>\n",
       "      <td>0</td>\n",
       "      <td>9</td>\n",
       "      <td>2008</td>\n",
       "      <td>WD</td>\n",
       "      <td>Normal</td>\n",
       "      <td>223500</td>\n",
       "    </tr>\n",
       "    <tr>\n",
       "      <th>3</th>\n",
       "      <td>4</td>\n",
       "      <td>70</td>\n",
       "      <td>RL</td>\n",
       "      <td>60.0</td>\n",
       "      <td>9550</td>\n",
       "      <td>Pave</td>\n",
       "      <td>NaN</td>\n",
       "      <td>IR1</td>\n",
       "      <td>Lvl</td>\n",
       "      <td>AllPub</td>\n",
       "      <td>...</td>\n",
       "      <td>0</td>\n",
       "      <td>NaN</td>\n",
       "      <td>NaN</td>\n",
       "      <td>NaN</td>\n",
       "      <td>0</td>\n",
       "      <td>2</td>\n",
       "      <td>2006</td>\n",
       "      <td>WD</td>\n",
       "      <td>Abnorml</td>\n",
       "      <td>140000</td>\n",
       "    </tr>\n",
       "    <tr>\n",
       "      <th>4</th>\n",
       "      <td>5</td>\n",
       "      <td>60</td>\n",
       "      <td>RL</td>\n",
       "      <td>84.0</td>\n",
       "      <td>14260</td>\n",
       "      <td>Pave</td>\n",
       "      <td>NaN</td>\n",
       "      <td>IR1</td>\n",
       "      <td>Lvl</td>\n",
       "      <td>AllPub</td>\n",
       "      <td>...</td>\n",
       "      <td>0</td>\n",
       "      <td>NaN</td>\n",
       "      <td>NaN</td>\n",
       "      <td>NaN</td>\n",
       "      <td>0</td>\n",
       "      <td>12</td>\n",
       "      <td>2008</td>\n",
       "      <td>WD</td>\n",
       "      <td>Normal</td>\n",
       "      <td>250000</td>\n",
       "    </tr>\n",
       "    <tr>\n",
       "      <th>5</th>\n",
       "      <td>6</td>\n",
       "      <td>50</td>\n",
       "      <td>RL</td>\n",
       "      <td>85.0</td>\n",
       "      <td>14115</td>\n",
       "      <td>Pave</td>\n",
       "      <td>NaN</td>\n",
       "      <td>IR1</td>\n",
       "      <td>Lvl</td>\n",
       "      <td>AllPub</td>\n",
       "      <td>...</td>\n",
       "      <td>0</td>\n",
       "      <td>NaN</td>\n",
       "      <td>MnPrv</td>\n",
       "      <td>Shed</td>\n",
       "      <td>700</td>\n",
       "      <td>10</td>\n",
       "      <td>2009</td>\n",
       "      <td>WD</td>\n",
       "      <td>Normal</td>\n",
       "      <td>143000</td>\n",
       "    </tr>\n",
       "    <tr>\n",
       "      <th>6</th>\n",
       "      <td>7</td>\n",
       "      <td>20</td>\n",
       "      <td>RL</td>\n",
       "      <td>75.0</td>\n",
       "      <td>10084</td>\n",
       "      <td>Pave</td>\n",
       "      <td>NaN</td>\n",
       "      <td>Reg</td>\n",
       "      <td>Lvl</td>\n",
       "      <td>AllPub</td>\n",
       "      <td>...</td>\n",
       "      <td>0</td>\n",
       "      <td>NaN</td>\n",
       "      <td>NaN</td>\n",
       "      <td>NaN</td>\n",
       "      <td>0</td>\n",
       "      <td>8</td>\n",
       "      <td>2007</td>\n",
       "      <td>WD</td>\n",
       "      <td>Normal</td>\n",
       "      <td>307000</td>\n",
       "    </tr>\n",
       "    <tr>\n",
       "      <th>7</th>\n",
       "      <td>8</td>\n",
       "      <td>60</td>\n",
       "      <td>RL</td>\n",
       "      <td>NaN</td>\n",
       "      <td>10382</td>\n",
       "      <td>Pave</td>\n",
       "      <td>NaN</td>\n",
       "      <td>IR1</td>\n",
       "      <td>Lvl</td>\n",
       "      <td>AllPub</td>\n",
       "      <td>...</td>\n",
       "      <td>0</td>\n",
       "      <td>NaN</td>\n",
       "      <td>NaN</td>\n",
       "      <td>Shed</td>\n",
       "      <td>350</td>\n",
       "      <td>11</td>\n",
       "      <td>2009</td>\n",
       "      <td>WD</td>\n",
       "      <td>Normal</td>\n",
       "      <td>200000</td>\n",
       "    </tr>\n",
       "    <tr>\n",
       "      <th>8</th>\n",
       "      <td>9</td>\n",
       "      <td>50</td>\n",
       "      <td>RM</td>\n",
       "      <td>51.0</td>\n",
       "      <td>6120</td>\n",
       "      <td>Pave</td>\n",
       "      <td>NaN</td>\n",
       "      <td>Reg</td>\n",
       "      <td>Lvl</td>\n",
       "      <td>AllPub</td>\n",
       "      <td>...</td>\n",
       "      <td>0</td>\n",
       "      <td>NaN</td>\n",
       "      <td>NaN</td>\n",
       "      <td>NaN</td>\n",
       "      <td>0</td>\n",
       "      <td>4</td>\n",
       "      <td>2008</td>\n",
       "      <td>WD</td>\n",
       "      <td>Abnorml</td>\n",
       "      <td>129900</td>\n",
       "    </tr>\n",
       "    <tr>\n",
       "      <th>9</th>\n",
       "      <td>10</td>\n",
       "      <td>190</td>\n",
       "      <td>RL</td>\n",
       "      <td>50.0</td>\n",
       "      <td>7420</td>\n",
       "      <td>Pave</td>\n",
       "      <td>NaN</td>\n",
       "      <td>Reg</td>\n",
       "      <td>Lvl</td>\n",
       "      <td>AllPub</td>\n",
       "      <td>...</td>\n",
       "      <td>0</td>\n",
       "      <td>NaN</td>\n",
       "      <td>NaN</td>\n",
       "      <td>NaN</td>\n",
       "      <td>0</td>\n",
       "      <td>1</td>\n",
       "      <td>2008</td>\n",
       "      <td>WD</td>\n",
       "      <td>Normal</td>\n",
       "      <td>118000</td>\n",
       "    </tr>\n",
       "  </tbody>\n",
       "</table>\n",
       "<p>10 rows × 81 columns</p>\n",
       "</div>"
      ],
      "text/plain": [
       "   Id  MSSubClass MSZoning  LotFrontage  LotArea Street Alley LotShape  \\\n",
       "0   1          60       RL         65.0     8450   Pave   NaN      Reg   \n",
       "1   2          20       RL         80.0     9600   Pave   NaN      Reg   \n",
       "2   3          60       RL         68.0    11250   Pave   NaN      IR1   \n",
       "3   4          70       RL         60.0     9550   Pave   NaN      IR1   \n",
       "4   5          60       RL         84.0    14260   Pave   NaN      IR1   \n",
       "5   6          50       RL         85.0    14115   Pave   NaN      IR1   \n",
       "6   7          20       RL         75.0    10084   Pave   NaN      Reg   \n",
       "7   8          60       RL          NaN    10382   Pave   NaN      IR1   \n",
       "8   9          50       RM         51.0     6120   Pave   NaN      Reg   \n",
       "9  10         190       RL         50.0     7420   Pave   NaN      Reg   \n",
       "\n",
       "  LandContour Utilities  ... PoolArea PoolQC  Fence MiscFeature MiscVal  \\\n",
       "0         Lvl    AllPub  ...        0    NaN    NaN         NaN       0   \n",
       "1         Lvl    AllPub  ...        0    NaN    NaN         NaN       0   \n",
       "2         Lvl    AllPub  ...        0    NaN    NaN         NaN       0   \n",
       "3         Lvl    AllPub  ...        0    NaN    NaN         NaN       0   \n",
       "4         Lvl    AllPub  ...        0    NaN    NaN         NaN       0   \n",
       "5         Lvl    AllPub  ...        0    NaN  MnPrv        Shed     700   \n",
       "6         Lvl    AllPub  ...        0    NaN    NaN         NaN       0   \n",
       "7         Lvl    AllPub  ...        0    NaN    NaN        Shed     350   \n",
       "8         Lvl    AllPub  ...        0    NaN    NaN         NaN       0   \n",
       "9         Lvl    AllPub  ...        0    NaN    NaN         NaN       0   \n",
       "\n",
       "  MoSold YrSold  SaleType  SaleCondition  SalePrice  \n",
       "0      2   2008        WD         Normal     208500  \n",
       "1      5   2007        WD         Normal     181500  \n",
       "2      9   2008        WD         Normal     223500  \n",
       "3      2   2006        WD        Abnorml     140000  \n",
       "4     12   2008        WD         Normal     250000  \n",
       "5     10   2009        WD         Normal     143000  \n",
       "6      8   2007        WD         Normal     307000  \n",
       "7     11   2009        WD         Normal     200000  \n",
       "8      4   2008        WD        Abnorml     129900  \n",
       "9      1   2008        WD         Normal     118000  \n",
       "\n",
       "[10 rows x 81 columns]"
      ]
     },
     "execution_count": 19,
     "metadata": {},
     "output_type": "execute_result"
    }
   ],
   "source": [
    "train = pd.read_csv('train.csv')\n",
    "train.head(10)"
   ]
  },
  {
   "cell_type": "markdown",
   "id": "5538e183",
   "metadata": {
    "cell_id": "00004-3eaef552-fc25-442f-b671-76903e21b645",
    "deepnote_cell_height": 82.15625,
    "deepnote_cell_type": "markdown"
   },
   "source": [
    "# Analise dos dados"
   ]
  },
  {
   "cell_type": "code",
   "execution_count": null,
   "id": "91460c7b",
   "metadata": {
    "cell_id": "00005-bf12a9f3-90d1-46c6-a9c1-394ddad045db",
    "deepnote_cell_height": 97.265625,
    "deepnote_cell_type": "code",
    "scrolled": false
   },
   "outputs": [
    {
     "data": {
      "text/html": [
       "<div>\n",
       "<style scoped>\n",
       "    .dataframe tbody tr th:only-of-type {\n",
       "        vertical-align: middle;\n",
       "    }\n",
       "\n",
       "    .dataframe tbody tr th {\n",
       "        vertical-align: top;\n",
       "    }\n",
       "\n",
       "    .dataframe thead th {\n",
       "        text-align: right;\n",
       "    }\n",
       "</style>\n",
       "<table border=\"1\" class=\"dataframe\">\n",
       "  <thead>\n",
       "    <tr style=\"text-align: right;\">\n",
       "      <th></th>\n",
       "      <th>Id</th>\n",
       "      <th>MSSubClass</th>\n",
       "      <th>LotFrontage</th>\n",
       "      <th>LotArea</th>\n",
       "      <th>OverallQual</th>\n",
       "      <th>OverallCond</th>\n",
       "      <th>YearBuilt</th>\n",
       "      <th>YearRemodAdd</th>\n",
       "      <th>MasVnrArea</th>\n",
       "      <th>BsmtFinSF1</th>\n",
       "      <th>...</th>\n",
       "      <th>WoodDeckSF</th>\n",
       "      <th>OpenPorchSF</th>\n",
       "      <th>EnclosedPorch</th>\n",
       "      <th>3SsnPorch</th>\n",
       "      <th>ScreenPorch</th>\n",
       "      <th>PoolArea</th>\n",
       "      <th>MiscVal</th>\n",
       "      <th>MoSold</th>\n",
       "      <th>YrSold</th>\n",
       "      <th>SalePrice</th>\n",
       "    </tr>\n",
       "  </thead>\n",
       "  <tbody>\n",
       "    <tr>\n",
       "      <th>count</th>\n",
       "      <td>1460.000000</td>\n",
       "      <td>1460.000000</td>\n",
       "      <td>1201.000000</td>\n",
       "      <td>1460.000000</td>\n",
       "      <td>1460.000000</td>\n",
       "      <td>1460.000000</td>\n",
       "      <td>1460.000000</td>\n",
       "      <td>1460.000000</td>\n",
       "      <td>1452.000000</td>\n",
       "      <td>1460.000000</td>\n",
       "      <td>...</td>\n",
       "      <td>1460.000000</td>\n",
       "      <td>1460.000000</td>\n",
       "      <td>1460.000000</td>\n",
       "      <td>1460.000000</td>\n",
       "      <td>1460.000000</td>\n",
       "      <td>1460.000000</td>\n",
       "      <td>1460.000000</td>\n",
       "      <td>1460.000000</td>\n",
       "      <td>1460.000000</td>\n",
       "      <td>1460.000000</td>\n",
       "    </tr>\n",
       "    <tr>\n",
       "      <th>mean</th>\n",
       "      <td>730.500000</td>\n",
       "      <td>56.897260</td>\n",
       "      <td>70.049958</td>\n",
       "      <td>10516.828082</td>\n",
       "      <td>6.099315</td>\n",
       "      <td>5.575342</td>\n",
       "      <td>1971.267808</td>\n",
       "      <td>1984.865753</td>\n",
       "      <td>103.685262</td>\n",
       "      <td>443.639726</td>\n",
       "      <td>...</td>\n",
       "      <td>94.244521</td>\n",
       "      <td>46.660274</td>\n",
       "      <td>21.954110</td>\n",
       "      <td>3.409589</td>\n",
       "      <td>15.060959</td>\n",
       "      <td>2.758904</td>\n",
       "      <td>43.489041</td>\n",
       "      <td>6.321918</td>\n",
       "      <td>2007.815753</td>\n",
       "      <td>180921.195890</td>\n",
       "    </tr>\n",
       "    <tr>\n",
       "      <th>std</th>\n",
       "      <td>421.610009</td>\n",
       "      <td>42.300571</td>\n",
       "      <td>24.284752</td>\n",
       "      <td>9981.264932</td>\n",
       "      <td>1.382997</td>\n",
       "      <td>1.112799</td>\n",
       "      <td>30.202904</td>\n",
       "      <td>20.645407</td>\n",
       "      <td>181.066207</td>\n",
       "      <td>456.098091</td>\n",
       "      <td>...</td>\n",
       "      <td>125.338794</td>\n",
       "      <td>66.256028</td>\n",
       "      <td>61.119149</td>\n",
       "      <td>29.317331</td>\n",
       "      <td>55.757415</td>\n",
       "      <td>40.177307</td>\n",
       "      <td>496.123024</td>\n",
       "      <td>2.703626</td>\n",
       "      <td>1.328095</td>\n",
       "      <td>79442.502883</td>\n",
       "    </tr>\n",
       "    <tr>\n",
       "      <th>min</th>\n",
       "      <td>1.000000</td>\n",
       "      <td>20.000000</td>\n",
       "      <td>21.000000</td>\n",
       "      <td>1300.000000</td>\n",
       "      <td>1.000000</td>\n",
       "      <td>1.000000</td>\n",
       "      <td>1872.000000</td>\n",
       "      <td>1950.000000</td>\n",
       "      <td>0.000000</td>\n",
       "      <td>0.000000</td>\n",
       "      <td>...</td>\n",
       "      <td>0.000000</td>\n",
       "      <td>0.000000</td>\n",
       "      <td>0.000000</td>\n",
       "      <td>0.000000</td>\n",
       "      <td>0.000000</td>\n",
       "      <td>0.000000</td>\n",
       "      <td>0.000000</td>\n",
       "      <td>1.000000</td>\n",
       "      <td>2006.000000</td>\n",
       "      <td>34900.000000</td>\n",
       "    </tr>\n",
       "    <tr>\n",
       "      <th>25%</th>\n",
       "      <td>365.750000</td>\n",
       "      <td>20.000000</td>\n",
       "      <td>59.000000</td>\n",
       "      <td>7553.500000</td>\n",
       "      <td>5.000000</td>\n",
       "      <td>5.000000</td>\n",
       "      <td>1954.000000</td>\n",
       "      <td>1967.000000</td>\n",
       "      <td>0.000000</td>\n",
       "      <td>0.000000</td>\n",
       "      <td>...</td>\n",
       "      <td>0.000000</td>\n",
       "      <td>0.000000</td>\n",
       "      <td>0.000000</td>\n",
       "      <td>0.000000</td>\n",
       "      <td>0.000000</td>\n",
       "      <td>0.000000</td>\n",
       "      <td>0.000000</td>\n",
       "      <td>5.000000</td>\n",
       "      <td>2007.000000</td>\n",
       "      <td>129975.000000</td>\n",
       "    </tr>\n",
       "    <tr>\n",
       "      <th>50%</th>\n",
       "      <td>730.500000</td>\n",
       "      <td>50.000000</td>\n",
       "      <td>69.000000</td>\n",
       "      <td>9478.500000</td>\n",
       "      <td>6.000000</td>\n",
       "      <td>5.000000</td>\n",
       "      <td>1973.000000</td>\n",
       "      <td>1994.000000</td>\n",
       "      <td>0.000000</td>\n",
       "      <td>383.500000</td>\n",
       "      <td>...</td>\n",
       "      <td>0.000000</td>\n",
       "      <td>25.000000</td>\n",
       "      <td>0.000000</td>\n",
       "      <td>0.000000</td>\n",
       "      <td>0.000000</td>\n",
       "      <td>0.000000</td>\n",
       "      <td>0.000000</td>\n",
       "      <td>6.000000</td>\n",
       "      <td>2008.000000</td>\n",
       "      <td>163000.000000</td>\n",
       "    </tr>\n",
       "    <tr>\n",
       "      <th>75%</th>\n",
       "      <td>1095.250000</td>\n",
       "      <td>70.000000</td>\n",
       "      <td>80.000000</td>\n",
       "      <td>11601.500000</td>\n",
       "      <td>7.000000</td>\n",
       "      <td>6.000000</td>\n",
       "      <td>2000.000000</td>\n",
       "      <td>2004.000000</td>\n",
       "      <td>166.000000</td>\n",
       "      <td>712.250000</td>\n",
       "      <td>...</td>\n",
       "      <td>168.000000</td>\n",
       "      <td>68.000000</td>\n",
       "      <td>0.000000</td>\n",
       "      <td>0.000000</td>\n",
       "      <td>0.000000</td>\n",
       "      <td>0.000000</td>\n",
       "      <td>0.000000</td>\n",
       "      <td>8.000000</td>\n",
       "      <td>2009.000000</td>\n",
       "      <td>214000.000000</td>\n",
       "    </tr>\n",
       "    <tr>\n",
       "      <th>max</th>\n",
       "      <td>1460.000000</td>\n",
       "      <td>190.000000</td>\n",
       "      <td>313.000000</td>\n",
       "      <td>215245.000000</td>\n",
       "      <td>10.000000</td>\n",
       "      <td>9.000000</td>\n",
       "      <td>2010.000000</td>\n",
       "      <td>2010.000000</td>\n",
       "      <td>1600.000000</td>\n",
       "      <td>5644.000000</td>\n",
       "      <td>...</td>\n",
       "      <td>857.000000</td>\n",
       "      <td>547.000000</td>\n",
       "      <td>552.000000</td>\n",
       "      <td>508.000000</td>\n",
       "      <td>480.000000</td>\n",
       "      <td>738.000000</td>\n",
       "      <td>15500.000000</td>\n",
       "      <td>12.000000</td>\n",
       "      <td>2010.000000</td>\n",
       "      <td>755000.000000</td>\n",
       "    </tr>\n",
       "  </tbody>\n",
       "</table>\n",
       "<p>8 rows × 38 columns</p>\n",
       "</div>"
      ],
      "text/plain": [
       "                Id   MSSubClass  LotFrontage        LotArea  OverallQual  \\\n",
       "count  1460.000000  1460.000000  1201.000000    1460.000000  1460.000000   \n",
       "mean    730.500000    56.897260    70.049958   10516.828082     6.099315   \n",
       "std     421.610009    42.300571    24.284752    9981.264932     1.382997   \n",
       "min       1.000000    20.000000    21.000000    1300.000000     1.000000   \n",
       "25%     365.750000    20.000000    59.000000    7553.500000     5.000000   \n",
       "50%     730.500000    50.000000    69.000000    9478.500000     6.000000   \n",
       "75%    1095.250000    70.000000    80.000000   11601.500000     7.000000   \n",
       "max    1460.000000   190.000000   313.000000  215245.000000    10.000000   \n",
       "\n",
       "       OverallCond    YearBuilt  YearRemodAdd   MasVnrArea   BsmtFinSF1  ...  \\\n",
       "count  1460.000000  1460.000000   1460.000000  1452.000000  1460.000000  ...   \n",
       "mean      5.575342  1971.267808   1984.865753   103.685262   443.639726  ...   \n",
       "std       1.112799    30.202904     20.645407   181.066207   456.098091  ...   \n",
       "min       1.000000  1872.000000   1950.000000     0.000000     0.000000  ...   \n",
       "25%       5.000000  1954.000000   1967.000000     0.000000     0.000000  ...   \n",
       "50%       5.000000  1973.000000   1994.000000     0.000000   383.500000  ...   \n",
       "75%       6.000000  2000.000000   2004.000000   166.000000   712.250000  ...   \n",
       "max       9.000000  2010.000000   2010.000000  1600.000000  5644.000000  ...   \n",
       "\n",
       "        WoodDeckSF  OpenPorchSF  EnclosedPorch    3SsnPorch  ScreenPorch  \\\n",
       "count  1460.000000  1460.000000    1460.000000  1460.000000  1460.000000   \n",
       "mean     94.244521    46.660274      21.954110     3.409589    15.060959   \n",
       "std     125.338794    66.256028      61.119149    29.317331    55.757415   \n",
       "min       0.000000     0.000000       0.000000     0.000000     0.000000   \n",
       "25%       0.000000     0.000000       0.000000     0.000000     0.000000   \n",
       "50%       0.000000    25.000000       0.000000     0.000000     0.000000   \n",
       "75%     168.000000    68.000000       0.000000     0.000000     0.000000   \n",
       "max     857.000000   547.000000     552.000000   508.000000   480.000000   \n",
       "\n",
       "          PoolArea       MiscVal       MoSold       YrSold      SalePrice  \n",
       "count  1460.000000   1460.000000  1460.000000  1460.000000    1460.000000  \n",
       "mean      2.758904     43.489041     6.321918  2007.815753  180921.195890  \n",
       "std      40.177307    496.123024     2.703626     1.328095   79442.502883  \n",
       "min       0.000000      0.000000     1.000000  2006.000000   34900.000000  \n",
       "25%       0.000000      0.000000     5.000000  2007.000000  129975.000000  \n",
       "50%       0.000000      0.000000     6.000000  2008.000000  163000.000000  \n",
       "75%       0.000000      0.000000     8.000000  2009.000000  214000.000000  \n",
       "max     738.000000  15500.000000    12.000000  2010.000000  755000.000000  \n",
       "\n",
       "[8 rows x 38 columns]"
      ]
     },
     "execution_count": 5,
     "metadata": {},
     "output_type": "execute_result"
    }
   ],
   "source": [
    "train.describe()"
   ]
  },
  {
   "cell_type": "markdown",
   "id": "7f8c3d43",
   "metadata": {
    "cell_id": "00006-6c92bd81-a1d0-4434-afba-7f528a31e2d8",
    "deepnote_cell_height": 70.15625,
    "deepnote_cell_type": "markdown"
   },
   "source": [
    "## Tratamento de Outliers"
   ]
  },
  {
   "cell_type": "code",
   "execution_count": null,
   "id": "313bc623",
   "metadata": {
    "cell_id": "00007-c714b40c-b33e-4a97-ac61-73607fca8e48",
    "deepnote_cell_height": 413.515625,
    "deepnote_cell_type": "code"
   },
   "outputs": [
    {
     "data": {
      "text/plain": [
       "<AxesSubplot:xlabel='GrLivArea', ylabel='SalePrice'>"
      ]
     },
     "execution_count": 6,
     "metadata": {},
     "output_type": "execute_result"
    },
    {
     "data": {
      "image/png": "[encoded data removed]",
      "text/plain": [
       "<Figure size 432x288 with 1 Axes>"
      ]
     },
     "metadata": {
      "image/png": {
       "height": 262,
       "width": 408
      },
      "needs_background": "light"
     },
     "output_type": "display_data"
    }
   ],
   "source": [
    "sns.scatterplot(x=train['GrLivArea'], y=train['SalePrice'])"
   ]
  },
  {
   "cell_type": "code",
   "execution_count": null,
   "id": "7e65aa08",
   "metadata": {
    "cell_id": "00008-79db667d-b865-491e-9cd9-08a47c7fb231",
    "deepnote_cell_height": 81.140625,
    "deepnote_cell_type": "code",
    "deepnote_to_be_reexecuted": false,
    "execution_millis": 5,
    "execution_start": 1649803663766,
    "scrolled": true,
    "source_hash": "e68483b0"
   },
   "outputs": [],
   "source": [
    "train = train[train['GrLivArea'] < 4000]"
   ]
  },
  {
   "cell_type": "markdown",
   "id": "dc26e4d5",
   "metadata": {
    "cell_id": "00009-61d8b576-7598-4480-ac89-d806cc81acb3",
    "deepnote_cell_height": 70.15625,
    "deepnote_cell_type": "markdown"
   },
   "source": [
    "## Tratando grande quantidade de valores nulos"
   ]
  },
  {
   "cell_type": "code",
   "execution_count": null,
   "id": "6852fa87",
   "metadata": {
    "cell_id": "00010-009d5754-1a88-4963-a7d9-31ec6af87733",
    "deepnote_cell_height": 533.53125,
    "deepnote_cell_type": "code",
    "deepnote_to_be_reexecuted": false,
    "execution_millis": 395,
    "execution_start": 1649803667857,
    "scrolled": true,
    "source_hash": "ddca2b49"
   },
   "outputs": [
    {
     "data": {
      "text/plain": [
       "<AxesSubplot:>"
      ]
     },
     "execution_count": 21,
     "metadata": {},
     "output_type": "execute_result"
    },
    {
     "data": {
      "image/png": "[encoded data removed]",
      "text/plain": [
       "<Figure size 432x288 with 1 Axes>"
      ]
     },
     "metadata": {
      "image/png": {
       "height": 310,
       "width": 381
      },
      "needs_background": "light"
     },
     "output_type": "display_data"
    }
   ],
   "source": [
    "#Grafico de null por coluna\n",
    "missing = train.isnull().sum()\n",
    "missing = missing[missing > 0]\n",
    "missing.sort_values(inplace=True)\n",
    "missing.plot.bar()"
   ]
  },
  {
   "cell_type": "markdown",
   "id": "e5c82faf",
   "metadata": {
    "cell_id": "00011-adecb010-d24f-4b03-9118-4b4078530054",
    "deepnote_cell_height": 62.140625,
    "deepnote_cell_type": "markdown"
   },
   "source": [
    "### Analisando colunas com muitosa nullos"
   ]
  },
  {
   "cell_type": "code",
   "execution_count": null,
   "id": "7d045db0",
   "metadata": {
    "cell_id": "00012-4856ff4b-33b9-4fb5-a1cd-dda46e963e99",
    "deepnote_cell_height": 518.90625,
    "deepnote_cell_type": "code",
    "scrolled": false
   },
   "outputs": [
    {
     "data": {
      "text/plain": [
       "Electrical         1\n",
       "MasVnrType         8\n",
       "MasVnrArea         8\n",
       "BsmtQual          37\n",
       "BsmtCond          37\n",
       "BsmtFinType1      37\n",
       "BsmtExposure      38\n",
       "BsmtFinType2      38\n",
       "GarageCond        81\n",
       "GarageQual        81\n",
       "GarageFinish      81\n",
       "GarageType        81\n",
       "GarageYrBlt       81\n",
       "LotFrontage      259\n",
       "FireplaceQu      690\n",
       "Fence           1176\n",
       "Alley           1365\n",
       "MiscFeature     1402\n",
       "PoolQC          1451\n",
       "dtype: int64"
      ]
     },
     "execution_count": 9,
     "metadata": {},
     "output_type": "execute_result"
    }
   ],
   "source": [
    "missing = train.isnull().sum()\n",
    "missing = missing[missing > 0]\n",
    "missing.sort_values()"
   ]
  },
  {
   "cell_type": "code",
   "execution_count": null,
   "id": "ae9f7f58",
   "metadata": {
    "cell_id": "00013-f44e0071-2a4c-4542-b01e-f9ecc798caad",
    "deepnote_cell_height": 99.140625,
    "deepnote_cell_type": "code",
    "deepnote_to_be_reexecuted": false,
    "execution_millis": 24,
    "execution_start": 1649803673593,
    "source_hash": "533085ea"
   },
   "outputs": [],
   "source": [
    "train[\"LotFrontage\"] = train.groupby(\"Neighborhood\")[\"LotFrontage\"].transform(\n",
    "    lambda x: x.fillna(x.median()))"
   ]
  },
  {
   "cell_type": "markdown",
   "id": "f9c342c6",
   "metadata": {
    "cell_id": "00017-6d99db80-2328-4ceb-985e-73b3411ec13a",
    "deepnote_cell_height": 62.140625,
    "deepnote_cell_type": "markdown"
   },
   "source": [
    "### Exclui colunas nulas"
   ]
  },
  {
   "cell_type": "code",
   "execution_count": null,
   "id": "124bda20",
   "metadata": {
    "cell_id": "00018-91ef5271-c54b-44ad-b2c2-6bfc8fbde8b0",
    "deepnote_cell_height": 172.421875,
    "deepnote_cell_type": "code",
    "deepnote_to_be_reexecuted": false,
    "execution_millis": 594,
    "execution_start": 1649803679300,
    "source_hash": "4d289d8e"
   },
   "outputs": [
    {
     "data": {
      "text/plain": [
       "(1456, 76)"
      ]
     },
     "execution_count": 23,
     "metadata": {},
     "output_type": "execute_result"
    }
   ],
   "source": [
    "#Eliminar colunas com mais de 270 valores null\n",
    "max_number_of_nas = 270\n",
    "train = train.loc[:, (train.isnull().sum(axis=0) <= max_number_of_nas)]\n",
    "train.shape"
   ]
  },
  {
   "cell_type": "code",
   "execution_count": null,
   "id": "8e42e9d7",
   "metadata": {
    "cell_id": "00019-9dc609a6-2f57-4dcb-bc41-f4f3ad7f5c86",
    "deepnote_cell_height": 533.53125,
    "deepnote_cell_type": "code",
    "deepnote_to_be_reexecuted": false,
    "execution_millis": 335,
    "execution_start": 1649803681321,
    "scrolled": true,
    "source_hash": "35a9a8dc"
   },
   "outputs": [
    {
     "data": {
      "text/plain": [
       "<AxesSubplot:>"
      ]
     },
     "execution_count": 24,
     "metadata": {},
     "output_type": "execute_result"
    },
    {
     "data": {
      "image/png": "[encoded data removed]",
      "text/plain": [
       "<Figure size 432x288 with 1 Axes>"
      ]
     },
     "metadata": {
      "image/png": {
       "height": 310,
       "width": 368
      },
      "needs_background": "light"
     },
     "output_type": "display_data"
    }
   ],
   "source": [
    "#Grafico após eliminar colunas\n",
    "missing = train.isnull().sum()\n",
    "missing = missing[missing > 0]\n",
    "missing.sort_values(inplace=True)\n",
    "missing.plot.bar()"
   ]
  },
  {
   "cell_type": "code",
   "execution_count": null,
   "id": "372fafc1",
   "metadata": {
    "cell_id": "00020-994cd22e-f106-4044-bdd4-1f2022db178c",
    "deepnote_cell_height": 171.140625,
    "deepnote_cell_type": "code",
    "deepnote_to_be_reexecuted": false,
    "execution_millis": 32,
    "execution_start": 1649803684735,
    "source_hash": "13b6ace1"
   },
   "outputs": [],
   "source": [
    "col_list = train.columns\n",
    "for col in col_list:\n",
    "    if train[col].dtype == 'object':\n",
    "        train[col] = train[col].fillna('None')\n",
    "    else:\n",
    "        train[col] = train[col].fillna(0)"
   ]
  },
  {
   "cell_type": "code",
   "execution_count": null,
   "id": "6ecfe0e8",
   "metadata": {
    "cell_id": "00021-c9b398c4-48fa-4ca5-ab35-4bf3882ee210",
    "deepnote_cell_height": 81.140625,
    "deepnote_cell_type": "code",
    "deepnote_to_be_reexecuted": false,
    "execution_millis": 0,
    "execution_start": 1649803685871,
    "source_hash": "c260edab"
   },
   "outputs": [],
   "source": [
    "train = train.drop(columns= 'Id', axis= 1)"
   ]
  },
  {
   "cell_type": "markdown",
   "id": "504ef47d",
   "metadata": {
    "cell_id": "00022-ce5b0f83-a18c-4cbb-a6f0-269cee669cbc",
    "deepnote_cell_height": 70.15625,
    "deepnote_cell_type": "markdown"
   },
   "source": [
    "## Split da base de treino"
   ]
  },
  {
   "cell_type": "code",
   "execution_count": null,
   "id": "1b6b959d",
   "metadata": {
    "cell_id": "00023-d8e5e892-9ea8-498e-baa7-2b82d8e76882",
    "deepnote_cell_height": 99.140625,
    "deepnote_cell_type": "code",
    "deepnote_to_be_reexecuted": false,
    "execution_millis": 0,
    "execution_start": 1649803688487,
    "scrolled": true,
    "source_hash": "855eca41"
   },
   "outputs": [],
   "source": [
    "from sklearn.model_selection import train_test_split\n",
    "from sklearn.linear_model import LinearRegression"
   ]
  },
  {
   "cell_type": "code",
   "execution_count": null,
   "id": "4cb8267e",
   "metadata": {
    "cell_id": "00024-29a2ac4e-2117-44ee-999e-2cac027711e6",
    "deepnote_cell_height": 99.140625,
    "deepnote_cell_type": "code",
    "deepnote_to_be_reexecuted": false,
    "execution_millis": 3,
    "execution_start": 1649803689379,
    "source_hash": "730a2143"
   },
   "outputs": [],
   "source": [
    "X = train.drop('SalePrice', axis = 1)\n",
    "y = train['SalePrice']"
   ]
  },
  {
   "cell_type": "markdown",
   "id": "5392ed6c",
   "metadata": {
    "cell_id": "00025-43ace242-d21e-4990-b2cb-90298070e943",
    "deepnote_cell_height": 62.140625,
    "deepnote_cell_type": "markdown"
   },
   "source": [
    "### Ajuste da variável target"
   ]
  },
  {
   "cell_type": "code",
   "execution_count": null,
   "id": "65467c2f",
   "metadata": {
    "cell_id": "00026-27294528-4e03-4904-9d56-4045f366b901",
    "deepnote_cell_height": 136.421875,
    "deepnote_cell_type": "code",
    "deepnote_to_be_reexecuted": false,
    "execution_millis": 494,
    "execution_start": 1649803692859,
    "scrolled": false,
    "source_hash": "60a90bf4"
   },
   "outputs": [
    {
     "data": {
      "text/plain": [
       "(1456, 1)"
      ]
     },
     "execution_count": 29,
     "metadata": {},
     "output_type": "execute_result"
    }
   ],
   "source": [
    "y = pd.DataFrame(y)\n",
    "y.shape"
   ]
  },
  {
   "cell_type": "code",
   "execution_count": null,
   "id": "1e800acc",
   "metadata": {
    "cell_id": "00027-28c23311-1c7e-41d7-980e-113ed269fbc4",
    "deepnote_cell_height": 81.140625,
    "deepnote_cell_type": "code",
    "deepnote_to_be_reexecuted": false,
    "execution_millis": 8,
    "execution_start": 1649803694382,
    "source_hash": "edb45dfa"
   },
   "outputs": [],
   "source": [
    "X_train, X_test, y_train, y_test = train_test_split(X, y, test_size=0.33, random_state=10)"
   ]
  },
  {
   "cell_type": "markdown",
   "id": "ee02c94c",
   "metadata": {
    "cell_id": "00028-e80624ea-ef84-4172-a96f-957ef3989cce",
    "deepnote_cell_height": 70.15625,
    "deepnote_cell_type": "markdown"
   },
   "source": [
    "## Parse de variáveis categóricas com OneHotEncoder X_train"
   ]
  },
  {
   "cell_type": "code",
   "execution_count": null,
   "id": "60d8f53e",
   "metadata": {
    "cell_id": "00029-df990d26-e8c1-444e-abd8-f52f53a14d7d",
    "deepnote_cell_height": 99.140625,
    "deepnote_cell_type": "code",
    "deepnote_to_be_reexecuted": false,
    "execution_millis": 0,
    "execution_start": 1649803699109,
    "source_hash": "4e6e42fc"
   },
   "outputs": [],
   "source": [
    "from sklearn.preprocessing import OneHotEncoder\n",
    "from sklearn.compose import ColumnTransformer"
   ]
  },
  {
   "cell_type": "code",
   "execution_count": null,
   "id": "9355d2b1",
   "metadata": {
    "cell_id": "00030-06d5cbed-791f-4be0-98fd-8cd22d392094",
    "deepnote_cell_height": 289.890625,
    "deepnote_cell_type": "code",
    "deepnote_to_be_reexecuted": false,
    "execution_millis": 7,
    "execution_start": 1649803703072,
    "source_hash": "5cf7001f"
   },
   "outputs": [
    {
     "data": {
      "text/plain": [
       "Index(['MSZoning', 'Street', 'LotShape', 'LandContour', 'Utilities',\n",
       "       'LotConfig', 'LandSlope', 'Neighborhood', 'Condition1', 'Condition2',\n",
       "       'BldgType', 'HouseStyle', 'RoofStyle', 'RoofMatl', 'Exterior1st',\n",
       "       'Exterior2nd', 'MasVnrType', 'ExterQual', 'ExterCond', 'Foundation',\n",
       "       'BsmtQual', 'BsmtCond', 'BsmtExposure', 'BsmtFinType1', 'BsmtFinType2',\n",
       "       'Heating', 'HeatingQC', 'CentralAir', 'Electrical', 'KitchenQual',\n",
       "       'Functional', 'GarageType', 'GarageFinish', 'GarageQual', 'GarageCond',\n",
       "       'PavedDrive', 'SaleType', 'SaleCondition'],\n",
       "      dtype='object')"
      ]
     },
     "execution_count": 32,
     "metadata": {},
     "output_type": "execute_result"
    }
   ],
   "source": [
    "columns_dummy = train.select_dtypes('object').columns\n",
    "columns_dummy"
   ]
  },
  {
   "cell_type": "code",
   "execution_count": null,
   "id": "577350df",
   "metadata": {
    "cell_id": "00031-ea1d2b62-f2d6-4e76-a4cc-c0daf02b90ee",
    "deepnote_cell_height": 277.34375,
    "deepnote_cell_type": "code",
    "deepnote_to_be_reexecuted": false,
    "execution_millis": 57,
    "execution_start": 1649803712452,
    "scrolled": true,
    "source_hash": "cb29b874"
   },
   "outputs": [
    {
     "name": "stderr",
     "output_type": "stream",
     "text": [
      "/shared-libs/python3.7/py/lib/python3.7/site-packages/sklearn/utils/deprecation.py:87: FutureWarning: Function get_feature_names is deprecated; get_feature_names is deprecated in 1.0 and will be removed in 1.2. Please use get_feature_names_out instead.\n",
      "  warnings.warn(msg, category=FutureWarning)\n"
     ]
    },
    {
     "data": {
      "text/plain": [
       "(975, 270)"
      ]
     },
     "execution_count": 33,
     "metadata": {},
     "output_type": "execute_result"
    }
   ],
   "source": [
    "trf_train = ColumnTransformer([\n",
    "        ('enc', OneHotEncoder(sparse = False, handle_unknown='ignore'), columns_dummy)\n",
    "    ], remainder ='passthrough')\n",
    "\n",
    "X_train = pd.DataFrame(trf_train.fit_transform(X_train), columns = trf_train.get_feature_names())\n",
    "X_train.shape"
   ]
  },
  {
   "cell_type": "markdown",
   "id": "b4addf27",
   "metadata": {
    "cell_id": "00032-ebb5beb4-7b95-42a9-8567-d5924c6a5b80",
    "deepnote_cell_height": 70.15625,
    "deepnote_cell_type": "markdown"
   },
   "source": [
    "## Parse de variáveis categóricas com OneHotEncoder X_test"
   ]
  },
  {
   "cell_type": "code",
   "execution_count": null,
   "id": "96502cb0",
   "metadata": {
    "cell_id": "00034-4492ff5f-4638-488a-92e4-201c9d1e35f4",
    "deepnote_cell_height": 205.328125,
    "deepnote_cell_type": "code",
    "deepnote_to_be_reexecuted": false,
    "execution_millis": 27,
    "execution_start": 1649803730927,
    "scrolled": true,
    "source_hash": "6e97d170"
   },
   "outputs": [
    {
     "name": "stderr",
     "output_type": "stream",
     "text": [
      "/shared-libs/python3.7/py/lib/python3.7/site-packages/sklearn/utils/deprecation.py:87: FutureWarning: Function get_feature_names is deprecated; get_feature_names is deprecated in 1.0 and will be removed in 1.2. Please use get_feature_names_out instead.\n",
      "  warnings.warn(msg, category=FutureWarning)\n"
     ]
    },
    {
     "data": {
      "text/plain": [
       "(481, 270)"
      ]
     },
     "execution_count": 34,
     "metadata": {},
     "output_type": "execute_result"
    }
   ],
   "source": [
    "X_test = pd.DataFrame(trf_train.transform(X_test), columns = trf_train.get_feature_names())\n",
    "X_test.shape"
   ]
  },
  {
   "cell_type": "markdown",
   "id": "16b1f786",
   "metadata": {
    "cell_id": "00066-14026f26-e975-45d1-ba34-b7a292b0e7eb",
    "deepnote_cell_height": 120.515625,
    "deepnote_cell_type": "markdown"
   },
   "source": [
    "# XGBoost\n",
    "\n",
    "X_train, X_test, y_train, y_test "
   ]
  },
  {
   "cell_type": "code",
   "execution_count": null,
   "id": "0ba4deb8",
   "metadata": {
    "cell_id": "7c156939c3e84384b78572135359cd34",
    "deepnote_cell_height": 310.09375,
    "deepnote_cell_type": "code",
    "deepnote_to_be_reexecuted": false,
    "execution_millis": 21288,
    "execution_start": 1649803892191,
    "source_hash": "4d27a39e",
    "tags": []
   },
   "outputs": [
    {
     "name": "stdout",
     "output_type": "stream",
     "text": [
      "Collecting xgboost\n",
      "  Downloading xgboost-1.5.2-py3-none-manylinux2014_x86_64.whl (173.6 MB)\n",
      "\u001b[K     |████████████████████████████████| 173.6 MB 15 kB/s \n",
      "\u001b[?25hRequirement already satisfied: numpy in /shared-libs/python3.7/py/lib/python3.7/site-packages (from xgboost) (1.21.5)\n",
      "Requirement already satisfied: scipy in /shared-libs/python3.7/py/lib/python3.7/site-packages (from xgboost) (1.7.3)\n",
      "Installing collected packages: xgboost\n",
      "Successfully installed xgboost-1.5.2\n",
      "\u001b[33mWARNING: You are using pip version 20.1.1; however, version 22.0.4 is available.\n",
      "You should consider upgrading via the '/root/venv/bin/python -m pip install --upgrade pip' command.\u001b[0m\n"
     ]
    }
   ],
   "source": [
    "!pip install xgboost"
   ]
  },
  {
   "cell_type": "code",
   "execution_count": null,
   "id": "72f42478",
   "metadata": {
    "cell_id": "00067-ece5fdd6-960a-4a48-9083-aa5d43f07a82",
    "deepnote_cell_height": 81.140625,
    "deepnote_cell_type": "code",
    "deepnote_to_be_reexecuted": false,
    "execution_millis": 698,
    "execution_start": 1649803926463,
    "source_hash": "40218761"
   },
   "outputs": [],
   "source": [
    "from xgboost import XGBRegressor"
   ]
  },
  {
   "cell_type": "code",
   "execution_count": null,
   "id": "d7937783",
   "metadata": {
    "cell_id": "00068-d333d62f-3b5f-4137-bf11-6a39e117889f",
    "deepnote_cell_height": 420.984375,
    "deepnote_cell_type": "code",
    "deepnote_to_be_reexecuted": false,
    "execution_millis": 7812,
    "execution_start": 1649803930361,
    "source_hash": "6495503b"
   },
   "outputs": [
    {
     "name": "stdout",
     "output_type": "stream",
     "text": [
      "MAE: 15715.530275467776\n",
      "MSE: 587152920.337979\n",
      "RMSE: 24231.23852257616\n",
      "MAPE: 9.56 %\n"
     ]
    }
   ],
   "source": [
    "arvores_poderosas = XGBRegressor(learning_rate = 0.015,\n",
    "                                 n_estimators = 500,\n",
    "                                 max_depth = 4,\n",
    "                                 min_child_weight = 2,\n",
    "                                 subsample = 0.6,\n",
    "                                 colsample_bynode = 0.05,\n",
    "                                 num_parallel_tree = 9,\n",
    "                                 random_state = 0)\n",
    "arvores_poderosas.fit(X_train,y_train)\n",
    "\n",
    "predict_xgb = arvores_poderosas.predict(X_test)\n",
    "print('MAE:', metrics.mean_absolute_error(y_test, predict_xgb))\n",
    "print('MSE:', metrics.mean_squared_error(y_test, predict_xgb))\n",
    "print('RMSE:', np.sqrt(metrics.mean_squared_error(y_test, predict_xgb)))\n",
    "print('MAPE:', round((metrics.mean_absolute_percentage_error(y_test, predict_xgb))*100,2),\"%\")"
   ]
  },
  {
   "cell_type": "code",
   "execution_count": null,
   "id": "543fa657",
   "metadata": {
    "cell_id": "00069-1beefecb-b81f-4a9c-a66b-e6a66c8b1f74",
    "deepnote_cell_height": 526.5,
    "deepnote_cell_type": "code",
    "deepnote_to_be_reexecuted": false,
    "execution_millis": 423,
    "execution_start": 1649803954508,
    "scrolled": false,
    "source_hash": "c34729c6"
   },
   "outputs": [
    {
     "data": {
      "text/plain": [
       "<matplotlib.collections.PathCollection at 0x7f39f7ad9e50>"
      ]
     },
     "execution_count": 47,
     "metadata": {},
     "output_type": "execute_result"
    },
    {
     "data": {
      "image/png": "[encoded data removed]",
      "text/plain": [
       "<Figure size 432x432 with 1 Axes>"
      ]
     },
     "metadata": {
      "image/png": {
       "height": 357,
       "width": 393
      },
      "needs_background": "light"
     },
     "output_type": "display_data"
    }
   ],
   "source": [
    "plt.figure(figsize=(6,6))\n",
    "plt.scatter(y_test,predict_xgb)"
   ]
  },
  {
   "cell_type": "code",
   "execution_count": null,
   "id": "0e66db09",
   "metadata": {
    "cell_id": "00070-930d7398-3614-4a4c-ac62-ce24a40239e5",
    "deepnote_cell_height": 510.40625,
    "deepnote_cell_type": "code",
    "deepnote_to_be_reexecuted": false,
    "execution_millis": 406,
    "execution_start": 1649803969273,
    "scrolled": false,
    "source_hash": "97e9485f"
   },
   "outputs": [
    {
     "name": "stderr",
     "output_type": "stream",
     "text": [
      "/shared-libs/python3.7/py/lib/python3.7/site-packages/seaborn/distributions.py:2619: FutureWarning: `distplot` is a deprecated function and will be removed in a future version. Please adapt your code to use either `displot` (a figure-level function with similar flexibility) or `histplot` (an axes-level function for histograms).\n",
      "  warnings.warn(msg, FutureWarning)\n"
     ]
    },
    {
     "data": {
      "text/plain": [
       "<AxesSubplot:ylabel='Density'>"
      ]
     },
     "execution_count": 48,
     "metadata": {},
     "output_type": "execute_result"
    },
    {
     "data": {
      "image/png": "[encoded data removed]",
      "text/plain": [
       "<Figure size 432x288 with 1 Axes>"
      ]
     },
     "metadata": {
      "image/png": {
       "height": 272,
       "width": 392
      },
      "needs_background": "light"
     },
     "output_type": "display_data"
    }
   ],
   "source": [
    "predict_xgb = pd.DataFrame(predict_xgb)\n",
    "sns.distplot((y_test-predict))"
   ]
  },
  {
   "cell_type": "markdown",
   "id": "fade86a5",
   "metadata": {
    "cell_id": "00072-95cab03b-eca8-4b9c-9a63-a96949d9e0f2",
    "deepnote_cell_height": 82.140625,
    "deepnote_cell_type": "markdown"
   },
   "source": [
    "# Treino com dados de submissão no Kaggle"
   ]
  },
  {
   "cell_type": "code",
   "execution_count": null,
   "id": "fbbfcca7",
   "metadata": {
    "cell_id": "00073-1ac08e51-e385-4e4c-8ceb-80067046ba66",
    "deepnote_cell_height": 136.421875,
    "deepnote_cell_type": "code",
    "deepnote_to_be_reexecuted": false,
    "execution_millis": 37,
    "execution_start": 1649805679690,
    "scrolled": false,
    "source_hash": "fa406f6a"
   },
   "outputs": [
    {
     "data": {
      "text/plain": [
       "(1459, 80)"
      ]
     },
     "execution_count": 72,
     "metadata": {},
     "output_type": "execute_result"
    }
   ],
   "source": [
    "test_kaggle = pd.read_csv('./test.csv')\n",
    "test_kaggle.shape"
   ]
  },
  {
   "cell_type": "code",
   "execution_count": null,
   "id": "c46b59a1",
   "metadata": {
    "cell_id": "00075-a4d22013-2992-4c6d-adcc-1449da5ee039",
    "deepnote_cell_height": 205.328125,
    "deepnote_cell_type": "code",
    "deepnote_to_be_reexecuted": false,
    "execution_millis": 51,
    "execution_start": 1649804173030,
    "source_hash": "4d54aaaf"
   },
   "outputs": [
    {
     "name": "stderr",
     "output_type": "stream",
     "text": [
      "/shared-libs/python3.7/py/lib/python3.7/site-packages/sklearn/utils/deprecation.py:87: FutureWarning: Function get_feature_names is deprecated; get_feature_names is deprecated in 1.0 and will be removed in 1.2. Please use get_feature_names_out instead.\n",
      "  warnings.warn(msg, category=FutureWarning)\n"
     ]
    },
    {
     "data": {
      "text/plain": [
       "(1459, 270)"
      ]
     },
     "execution_count": 50,
     "metadata": {},
     "output_type": "execute_result"
    }
   ],
   "source": [
    "X_test_kaggle = pd.DataFrame(trf_train.transform(X_test_kaggle), columns = trf_train.get_feature_names())\n",
    "X_test_kaggle.shape"
   ]
  },
  {
   "cell_type": "code",
   "execution_count": null,
   "id": "dcec88f2",
   "metadata": {
    "cell_id": "00076-cf8a0c0a-0802-42d5-ba1d-be8fd664c025",
    "deepnote_cell_height": 81.140625,
    "deepnote_cell_type": "code",
    "deepnote_to_be_reexecuted": false,
    "execution_millis": 148,
    "execution_start": 1649805618197,
    "source_hash": "c4e3cf3d"
   },
   "outputs": [],
   "source": [
    "predict_xgb_kaggle = arvores_poderosas.predict(X_test_kaggle)"
   ]
  },
  {
   "cell_type": "code",
   "execution_count": null,
   "id": "a48d80e7",
   "metadata": {
    "cell_id": "00077-b8926175-4a09-4fa1-886c-5186204efccb",
    "deepnote_cell_height": 81.140625,
    "deepnote_cell_type": "code",
    "deepnote_to_be_reexecuted": false,
    "execution_millis": 1,
    "execution_start": 1649805659885,
    "source_hash": "e5c27326"
   },
   "outputs": [],
   "source": [
    "predict_kaggle = pd.DataFrame(predict_xgb_kaggle, columns=['SalePrice'])"
   ]
  },
  {
   "cell_type": "code",
   "execution_count": null,
   "id": "95535f7d",
   "metadata": {
    "cell_id": "93820c6d37674a40877399fd3d9f0f60",
    "deepnote_cell_height": 136.421875,
    "deepnote_cell_type": "code",
    "deepnote_to_be_reexecuted": false,
    "execution_millis": 14,
    "execution_start": 1649805701526,
    "source_hash": "72be3799",
    "tags": []
   },
   "outputs": [
    {
     "data": {
      "text/plain": [
       "(1459, 81)"
      ]
     },
     "execution_count": 73,
     "metadata": {},
     "output_type": "execute_result"
    }
   ],
   "source": [
    "predict_kaggle = test_kaggle.join(predict_kaggle)\n",
    "predict_kaggle.shape"
   ]
  },
  {
   "cell_type": "code",
   "execution_count": null,
   "id": "74819ce7",
   "metadata": {
    "cell_id": "6cba404150a14244ab7bbd2b4308b652",
    "deepnote_cell_height": 81.140625,
    "deepnote_cell_type": "code",
    "deepnote_to_be_reexecuted": false,
    "execution_millis": 3,
    "execution_start": 1649805925397,
    "source_hash": "864fe757",
    "tags": []
   },
   "outputs": [],
   "source": [
    "kaggle_submmit = predict_kaggle[['Id','SalePrice']]"
   ]
  },
  {
   "cell_type": "code",
   "execution_count": null,
   "id": "beaf4240",
   "metadata": {
    "cell_id": "e0a8c26e23f14498a23af8418fe8c84c",
    "deepnote_cell_height": 600.234375,
    "deepnote_cell_type": "code",
    "deepnote_to_be_reexecuted": false,
    "execution_millis": 21,
    "execution_start": 1649805937618,
    "source_hash": "1e6c4e0d",
    "tags": []
   },
   "outputs": [
    {
     "data": {
      "application/vnd.deepnote.dataframe.v3+json": {
       "column_count": 2,
       "columns": [
        {
         "dtype": "int64",
         "name": "Id",
         "stats": {
          "histogram": [
           {
            "bin_end": 1606.8,
            "bin_start": 1461,
            "count": 146
           },
           {
            "bin_end": 1752.6,
            "bin_start": 1606.8,
            "count": 146
           },
           {
            "bin_end": 1898.4,
            "bin_start": 1752.6,
            "count": 146
           },
           {
            "bin_end": 2044.2,
            "bin_start": 1898.4,
            "count": 146
           },
           {
            "bin_end": 2190,
            "bin_start": 2044.2,
            "count": 145
           },
           {
            "bin_end": 2335.8,
            "bin_start": 2190,
            "count": 146
           },
           {
            "bin_end": 2481.6000000000004,
            "bin_start": 2335.8,
            "count": 146
           },
           {
            "bin_end": 2627.4,
            "bin_start": 2481.6000000000004,
            "count": 146
           },
           {
            "bin_end": 2773.2,
            "bin_start": 2627.4,
            "count": 146
           },
           {
            "bin_end": 2919,
            "bin_start": 2773.2,
            "count": 146
           }
          ],
          "max": "2919",
          "min": "1461",
          "nan_count": 0,
          "unique_count": 1459
         }
        },
        {
         "dtype": "float32",
         "name": "SalePrice",
         "stats": {
          "histogram": [
           {
            "bin_end": 108742.359375,
            "bin_start": 61301.34765625,
            "count": 134
           },
           {
            "bin_end": 156183.375,
            "bin_start": 108742.359375,
            "count": 576
           },
           {
            "bin_end": 203624.390625,
            "bin_start": 156183.375,
            "count": 359
           },
           {
            "bin_end": 251065.40625,
            "bin_start": 203624.390625,
            "count": 185
           },
           {
            "bin_end": 298506.4375,
            "bin_start": 251065.40625,
            "count": 89
           },
           {
            "bin_end": 345947.4375,
            "bin_start": 298506.4375,
            "count": 52
           },
           {
            "bin_end": 393388.46875,
            "bin_start": 345947.4375,
            "count": 33
           },
           {
            "bin_end": 440829.46875,
            "bin_start": 393388.46875,
            "count": 19
           },
           {
            "bin_end": 488270.5,
            "bin_start": 440829.46875,
            "count": 11
           },
           {
            "bin_end": 535711.5,
            "bin_start": 488270.5,
            "count": 1
           }
          ],
          "max": "535711.5",
          "min": "61301.34765625",
          "nan_count": 0,
          "unique_count": 1458
         }
        },
        {
         "dtype": "int64",
         "name": "_deepnote_index_column"
        }
       ],
       "row_count": 1459,
       "rows": [
        {
         "Id": 1461,
         "SalePrice": 126680.484375,
         "_deepnote_index_column": 0
        },
        {
         "Id": 1462,
         "SalePrice": 157799.765625,
         "_deepnote_index_column": 1
        },
        {
         "Id": 1463,
         "SalePrice": 181899.65625,
         "_deepnote_index_column": 2
        },
        {
         "Id": 1464,
         "SalePrice": 190923.78125,
         "_deepnote_index_column": 3
        },
        {
         "Id": 1465,
         "SalePrice": 189137.671875,
         "_deepnote_index_column": 4
        },
        {
         "Id": 1466,
         "SalePrice": 178934.8125,
         "_deepnote_index_column": 5
        },
        {
         "Id": 1467,
         "SalePrice": 166926.65625,
         "_deepnote_index_column": 6
        },
        {
         "Id": 1468,
         "SalePrice": 168272.609375,
         "_deepnote_index_column": 7
        },
        {
         "Id": 1469,
         "SalePrice": 176859.1875,
         "_deepnote_index_column": 8
        },
        {
         "Id": 1470,
         "SalePrice": 127446.578125,
         "_deepnote_index_column": 9
        }
       ]
      },
      "text/html": [
       "<div>\n",
       "<style scoped>\n",
       "    .dataframe tbody tr th:only-of-type {\n",
       "        vertical-align: middle;\n",
       "    }\n",
       "\n",
       "    .dataframe tbody tr th {\n",
       "        vertical-align: top;\n",
       "    }\n",
       "\n",
       "    .dataframe thead th {\n",
       "        text-align: right;\n",
       "    }\n",
       "</style>\n",
       "<table border=\"1\" class=\"dataframe\">\n",
       "  <thead>\n",
       "    <tr style=\"text-align: right;\">\n",
       "      <th></th>\n",
       "      <th>Id</th>\n",
       "      <th>SalePrice</th>\n",
       "    </tr>\n",
       "  </thead>\n",
       "  <tbody>\n",
       "    <tr>\n",
       "      <th>0</th>\n",
       "      <td>1461</td>\n",
       "      <td>126680.484375</td>\n",
       "    </tr>\n",
       "    <tr>\n",
       "      <th>1</th>\n",
       "      <td>1462</td>\n",
       "      <td>157799.765625</td>\n",
       "    </tr>\n",
       "    <tr>\n",
       "      <th>2</th>\n",
       "      <td>1463</td>\n",
       "      <td>181899.656250</td>\n",
       "    </tr>\n",
       "    <tr>\n",
       "      <th>3</th>\n",
       "      <td>1464</td>\n",
       "      <td>190923.781250</td>\n",
       "    </tr>\n",
       "    <tr>\n",
       "      <th>4</th>\n",
       "      <td>1465</td>\n",
       "      <td>189137.671875</td>\n",
       "    </tr>\n",
       "    <tr>\n",
       "      <th>...</th>\n",
       "      <td>...</td>\n",
       "      <td>...</td>\n",
       "    </tr>\n",
       "    <tr>\n",
       "      <th>1454</th>\n",
       "      <td>2915</td>\n",
       "      <td>94088.648438</td>\n",
       "    </tr>\n",
       "    <tr>\n",
       "      <th>1455</th>\n",
       "      <td>2916</td>\n",
       "      <td>93161.546875</td>\n",
       "    </tr>\n",
       "    <tr>\n",
       "      <th>1456</th>\n",
       "      <td>2917</td>\n",
       "      <td>164716.828125</td>\n",
       "    </tr>\n",
       "    <tr>\n",
       "      <th>1457</th>\n",
       "      <td>2918</td>\n",
       "      <td>126441.960938</td>\n",
       "    </tr>\n",
       "    <tr>\n",
       "      <th>1458</th>\n",
       "      <td>2919</td>\n",
       "      <td>226664.906250</td>\n",
       "    </tr>\n",
       "  </tbody>\n",
       "</table>\n",
       "<p>1459 rows × 2 columns</p>\n",
       "</div>"
      ],
      "text/plain": [
       "        Id      SalePrice\n",
       "0     1461  126680.484375\n",
       "1     1462  157799.765625\n",
       "2     1463  181899.656250\n",
       "3     1464  190923.781250\n",
       "4     1465  189137.671875\n",
       "...    ...            ...\n",
       "1454  2915   94088.648438\n",
       "1455  2916   93161.546875\n",
       "1456  2917  164716.828125\n",
       "1457  2918  126441.960938\n",
       "1458  2919  226664.906250\n",
       "\n",
       "[1459 rows x 2 columns]"
      ]
     },
     "execution_count": 77,
     "metadata": {},
     "output_type": "execute_result"
    }
   ],
   "source": [
    "kaggle_submmit"
   ]
  },
  {
   "cell_type": "code",
   "execution_count": null,
   "id": "0c4f449c",
   "metadata": {
    "cell_id": "852f670618a049f680c6a65220a84f02",
    "deepnote_cell_height": 81.15625,
    "deepnote_cell_type": "code",
    "deepnote_to_be_reexecuted": false,
    "execution_millis": 15,
    "execution_start": 1649806111567,
    "owner_user_id": "a8faf776-5f1e-4bc7-8754-37594b763d8b",
    "source_hash": "773004b0",
    "tags": []
   },
   "outputs": [],
   "source": [
    "kaggle_submmit.to_csv('predict_price_houses.csv', index=False)"
   ]
  },
  {
   "cell_type": "markdown",
   "id": "38e173b6",
   "metadata": {
    "created_in_deepnote_cell": true,
    "deepnote_cell_type": "markdown",
    "tags": []
   },
   "source": [
    "<a style='text-decoration:none;line-height:16px;display:flex;color:#5B5B62;padding:10px;justify-content:end;' href='https://deepnote.com?utm_source=created-in-deepnote-cell&projectId=5ef69f3c-6965-46e0-8644-3bfe3dd320c5' target=\"_blank\">\n",
    "<img alt='Created in deepnote.com' style='display:inline;max-height:16px;margin:0px;margin-right:7.5px;' src='data:image/svg+xml;base64,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' > </img>\n",
    "Created in <span style='font-weight:600;margin-left:4px;'>Deepnote</span></a>"
   ]
  }
 ],
 "metadata": {
  "deepnote": {},
  "deepnote_execution_queue": [],
  "deepnote_notebook_id": "b6a46297-dfe9-4fe9-b563-b2b5622d934f",
  "kernelspec": {
   "display_name": "Python 3 (ipykernel)",
   "language": "python",
   "name": "python3"
  },
  "language_info": {
   "codemirror_mode": {
    "name": "ipython",
    "version": 3
   },
   "file_extension": ".py",
   "mimetype": "text/x-python",
   "name": "python",
   "nbconvert_exporter": "python",
   "pygments_lexer": "ipython3",
   "version": "3.9.7"
  }
 },
 "nbformat": 4,
 "nbformat_minor": 5
}
